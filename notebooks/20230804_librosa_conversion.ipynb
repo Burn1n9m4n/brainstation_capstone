{
 "cells": [
  {
   "cell_type": "code",
   "execution_count": 1,
   "id": "74a4da02-979b-4812-ba9a-3c8025a9bf20",
   "metadata": {},
   "outputs": [],
   "source": [
    "from pathlib import Path\n",
    "import numpy as np\n",
    "import pandas as pd\n",
    "import librosa\n",
    "import matplotlib.pyplot as plt\n",
    "import os\n",
    "from datetime import datetime\n",
    "import itertools\n",
    "pd.set_option('display.max_rows', None)\n",
    "pd.set_option('display.max_columns',None)"
   ]
  },
  {
   "cell_type": "code",
   "execution_count": 2,
   "id": "58557902-fb8e-4cf2-a4af-760beb69a652",
   "metadata": {},
   "outputs": [
    {
     "data": {
      "text/plain": [
       "'2023-08-07'"
      ]
     },
     "execution_count": 2,
     "metadata": {},
     "output_type": "execute_result"
    }
   ],
   "source": [
    "output_file_date = datetime.now().strftime(\"%Y-%m-%d\")\n",
    "output_file_date"
   ]
  },
  {
   "cell_type": "code",
   "execution_count": 3,
   "id": "099f5bd8-a949-4904-932f-6ea04f7adac4",
   "metadata": {},
   "outputs": [],
   "source": [
    "def get_mfcc(wav_file_path):\n",
    "  y, sr = librosa.load(wav_file_path, offset=0, duration=30)\n",
    "  mfcc = np.array(librosa.feature.mfcc(y=y, sr=sr))\n",
    "  return mfcc\n",
    "    \n",
    "def get_melspectrogram(wav_file_path):\n",
    "  y, sr = librosa.load(wav_file_path, offset=10, duration=240)\n",
    "  melspectrogram = np.array(librosa.feature.melspectrogram(y=y, sr=sr))\n",
    "  return melspectrogram\n",
    "\n",
    "def get_chroma_vector(wav_file_path):\n",
    "  y, sr = librosa.load(wav_file_path)\n",
    "  chroma = np.array(librosa.feature.chroma_stft(y=y, sr=sr))\n",
    "  return chroma\n",
    "\n",
    "def get_tonnetz(wav_file_path):\n",
    "  y, sr = librosa.load(wav_file_path)\n",
    "  tonnetz = np.array(librosa.feature.tonnetz(y=y, sr=sr))\n",
    "  return tonnetz\n",
    "\n",
    "def get_feature(file_path):\n",
    "  # Extracting MFCC feature\n",
    "  mfcc = get_mfcc(file_path)\n",
    "  mfcc_mean = mfcc.mean(axis=1)\n",
    "  mfcc_min = mfcc.min(axis=1)\n",
    "  mfcc_max = mfcc.max(axis=1)\n",
    "  mfcc_feature = np.concatenate( (mfcc_mean, mfcc_min, mfcc_max) )\n",
    "\n",
    "  # Extracting Mel Spectrogram feature\n",
    "  melspectrogram = get_melspectrogram(file_path)\n",
    "  melspectrogram_mean = melspectrogram.mean(axis=1)\n",
    "  melspectrogram_min = melspectrogram.min(axis=1)\n",
    "  melspectrogram_max = melspectrogram.max(axis=1)\n",
    "  melspectrogram_feature = np.concatenate( (melspectrogram_mean, melspectrogram_min, melspectrogram_max) )\n",
    "\n",
    "  # Extracting chroma vector feature\n",
    "  chroma = get_chroma_vector(file_path)\n",
    "  chroma_mean = chroma.mean(axis=1)\n",
    "  chroma_min = chroma.min(axis=1)\n",
    "  chroma_max = chroma.max(axis=1)\n",
    "  chroma_feature = np.concatenate( (chroma_mean, chroma_min, chroma_max) )\n",
    "\n",
    "  # Extracting tonnetz feature\n",
    "  tntz = get_tonnetz(file_path)\n",
    "  tntz_mean = tntz.mean(axis=1)\n",
    "  tntz_min = tntz.min(axis=1)\n",
    "  tntz_max = tntz.max(axis=1)\n",
    "  tntz_feature = np.concatenate( (tntz_mean, tntz_min, tntz_max) ) \n",
    "  \n",
    "  feature = np.concatenate( (chroma_feature, melspectrogram_feature, mfcc_feature, tntz_feature) )\n",
    "  return feature"
   ]
  },
  {
   "cell_type": "code",
   "execution_count": 4,
   "id": "d254954b-5616-4e23-986f-ea3f5f143b50",
   "metadata": {},
   "outputs": [],
   "source": [
    "# Need to read in Kaggle data for reverse lookup\n",
    "# IE: Once we have the song recommendations, we want to look up the information so that we can present that to the user\n",
    "kaggle = pd.read_csv(\"../data/SpotifyFeatures.csv\")"
   ]
  },
  {
   "cell_type": "code",
   "execution_count": 6,
   "id": "770ab9a8-1497-4dc5-bf56-a6e1123a74ce",
   "metadata": {},
   "outputs": [
    {
     "data": {
      "text/plain": [
       "11573"
      ]
     },
     "execution_count": 6,
     "metadata": {},
     "output_type": "execute_result"
    }
   ],
   "source": [
    "data_dir = Path('../data/mp3s/')\n",
    "path_glob = data_dir.rglob('*.mp3')\n",
    "file_paths = []\n",
    "for file_path in path_glob:\n",
    "    file_paths.append(file_path) # creates a list for repeated iteration\n",
    "    # if this is not done, the .rglob command above has to be repeated to regenerate iterator\n",
    "len(file_paths) # number of mp3s in directory"
   ]
  },
  {
   "cell_type": "code",
   "execution_count": null,
   "id": "fb0ed97d-dc6d-4cd6-a94e-c41e90711eba",
   "metadata": {
    "scrolled": true
   },
   "outputs": [
    {
     "name": "stdout",
     "output_type": "stream",
     "text": [
      "1. FILE PATH: \n",
      " ../data/mp3s/1ZB2qWsheGabSEYvBYxjKn/Take on Me/Weezer - Take on Me.mp3 \n",
      "\n",
      "2. FILE PATH: \n",
      " ../data/mp3s/5V9H9J5GcUGY5ig029g5OU/Shkleepy/Manwolves - Shkleepy.mp3 \n",
      "\n",
      "3. FILE PATH: \n",
      " ../data/mp3s/34FsCOAQ0U99vAh3uoiLmm/Bandana (feat. Young Buck)/Dirty Audio, BL3R, Young Buck - Bandana (feat. Young Buck).mp3 \n",
      "\n",
      "4. FILE PATH: \n",
      " ../data/mp3s/25mldAmMHYzXhDXCxTpTHy/Chloroform/Phoenix - Chloroform.mp3 \n",
      "\n",
      "5. FILE PATH: \n",
      " ../data/mp3s/1YaOBTTdptDf4vYKpFy56T/Mawaranai Toe Shoes/majiko - Mawaranai Toe Shoes.mp3 \n",
      "\n",
      "6. FILE PATH: \n",
      " ../data/mp3s/2RbDFTlqdIdiZwO4GaTxi2/moonwalking/Good Scott - moonwalking.mp3 \n",
      "\n",
      "7. FILE PATH: \n",
      " ../data/mp3s/2lZkIlYXN5SR0UWFgljDCd/Because You Love Me/Jo Dee Messina - Because You Love Me.mp3 \n",
      "\n",
      "8. FILE PATH: \n",
      " ../data/mp3s/58dSdjfEYNSxte1aNVxuNf/Easy/Mac Ayres - Easy.mp3 \n",
      "\n",
      "9. FILE PATH: \n",
      " ../data/mp3s/6wulmNhwuptjQkNzWHZ7Ym/Don Palabras/Maldita Vecindad Y Los Hijos Del 5to. Patio - Don Palabras.mp3 \n",
      "\n",
      "10. FILE PATH: \n",
      " ../data/mp3s/6vLNSXMZ08nlGMgcQ17cib/Landing On Mars/rei brown - Landing On Mars.mp3 \n",
      "\n",
      "11. FILE PATH: \n",
      " ../data/mp3s/74kniUex3nMuYB60moE59k/Stayin out All Night/Wiz Khalifa - Stayin out All Night.mp3 \n",
      "\n",
      "12. FILE PATH: \n",
      " ../data/mp3s/4PWxt9Fy949kUtkEi2GI5V/L'enfant sauvage/Gojira - L'enfant sauvage.mp3 \n",
      "\n",
      "13. FILE PATH: \n",
      " ../data/mp3s/5JtP9hOuXZ6PacMbxrPoNu/El Bruto/Tempo - El Bruto.mp3 \n",
      "\n",
      "14. FILE PATH: \n",
      " ../data/mp3s/7EIptY8G8eHrytJadEuFoy/Slaughterhouse/Kai Straw - Slaughterhouse.mp3 \n",
      "\n",
      "15. FILE PATH: \n",
      " ../data/mp3s/6DRsEO5yuEGBF87qpyMB4d/Somethin' I'm Good At/Brett Eldredge - Somethin' I'm Good At.mp3 \n",
      "\n",
      "16. FILE PATH: \n",
      " ../data/mp3s/4z0wFSjODhvwHr3dtSxcW6/Debussy Preludes, Book 1, L. 117 VIII. La fille aux cheveux de lin/Claude Debussy, Fazıl Say - Debussy# Preludes, Book 1, L. 117# VIII. La fille aux cheveux de lin.mp3 \n",
      "\n",
      "17. FILE PATH: \n",
      " ../data/mp3s/0NZtTEQas9lOvhauqQX7m8/Fushicho/Mili - Fushicho.mp3 \n",
      "\n",
      "18. FILE PATH: \n",
      " ../data/mp3s/1XDbM59ydGfvuZ0WBNpUXz/Ring the Alarm/AC Slater, Sinden, Young Lyxx - Ring the Alarm.mp3 \n",
      "\n",
      "19. FILE PATH: \n",
      " ../data/mp3s/63qHeykqTTAc8SeLcSonYM/All American Neighborhood/Rancid - All American Neighborhood.mp3 \n",
      "\n",
      "20. FILE PATH: \n",
      " ../data/mp3s/6NWl2m8asvH83xjuXVNsuG/Betrayed/Lil Xan - Betrayed.mp3 \n",
      "\n",
      "21. FILE PATH: \n",
      " ../data/mp3s/4gJ30Zxy9UK2B2C605Bion/Ganesh Is Fresh (feat. Jai Uttal)/MC YOGI, Jai Uttal - Ganesh Is Fresh (feat. Jai Uttal).mp3 \n",
      "\n",
      "22. FILE PATH: \n",
      " ../data/mp3s/5Dcrc4FKYFZ1K2X29d0UpM/Haydn Cello Concerto No. 1 in C Major, Hob. VIIb, 1 I. Moderato (Cadenza by Britten)/Joseph Haydn, Mstislav Rostropovich, Academy of St. Martin in the Fields - Haydn# Cello Concerto No. 1 in C Major, Hob. VIIb, 1# I. Moderato (Cadenza by Britten).mp3 \n",
      "\n",
      "23. FILE PATH: \n",
      " ../data/mp3s/3BQbwXb8lMLLRBeLl6HTu8/Blue/The Neighbourhood - Blue.mp3 \n",
      "\n",
      "24. FILE PATH: \n",
      " ../data/mp3s/408wKFP7qp6ALbjcex2t9k/Get Drunk And Be Somebody/Toby Keith - Get Drunk And Be Somebody.mp3 \n",
      "\n"
     ]
    }
   ],
   "source": [
    "tracks,track_ids = [], []\n",
    "count = 1\n",
    "for file_path in file_paths:\n",
    "    # print(file_path)\n",
    "    print(f'{count}. FILE PATH: \\n', f'{file_path} \\n')\n",
    "    path_split = str(file_path).split('/')\n",
    "    track_ids.append(path_split[3])\n",
    "    array = get_feature(file_path)\n",
    "    tracks.append(array)\n",
    "    count+=1\n",
    "vectorized_df = pd.DataFrame(tracks, index = track_ids)\n",
    "# This implementation also scales everything to 498 dimensions"
   ]
  },
  {
   "cell_type": "code",
   "execution_count": null,
   "id": "cadfa09b-0d91-44ab-aa28-f364708fe4e0",
   "metadata": {},
   "outputs": [],
   "source": [
    "vectorized_df.head()"
   ]
  },
  {
   "cell_type": "code",
   "execution_count": null,
   "id": "8a1d9371-f1f0-4a80-a128-4aa41b7fda4f",
   "metadata": {},
   "outputs": [],
   "source": [
    "vectorized_df.shape"
   ]
  },
  {
   "cell_type": "code",
   "execution_count": null,
   "id": "541e3d2a-182c-4191-89a6-fcdfc616c06a",
   "metadata": {},
   "outputs": [],
   "source": [
    "vectorized_df.to_parquet(f\"{output_file_date}_vectorized_audio_data.parquet\")"
   ]
  },
  {
   "cell_type": "code",
   "execution_count": null,
   "id": "09bf2aa3-c21e-4282-85d0-59f512070cdb",
   "metadata": {},
   "outputs": [],
   "source": [
    "vectorized_df.to_csv(f\"{output_file_date}_vectorized_audio_data.parquet\")"
   ]
  },
  {
   "cell_type": "code",
   "execution_count": null,
   "id": "5aca77ec-1f70-4d8d-9082-2882f1e8a732",
   "metadata": {},
   "outputs": [],
   "source": []
  },
  {
   "cell_type": "code",
   "execution_count": null,
   "id": "11e27eff-9b70-4f8c-bc32-63943b997e51",
   "metadata": {},
   "outputs": [],
   "source": []
  },
  {
   "cell_type": "markdown",
   "id": "5a2c5027-af4d-4871-a031-0fbb43fe5f4d",
   "metadata": {},
   "source": [
    "### Test Code"
   ]
  },
  {
   "cell_type": "code",
   "execution_count": 38,
   "id": "4c56aa53-e979-4662-9466-1f49c5de7a14",
   "metadata": {
    "scrolled": true
   },
   "outputs": [
    {
     "name": "stdout",
     "output_type": "stream",
     "text": [
      "FILE PATH: \n",
      " (PosixPath('../data/mp3s/34FsCOAQ0U99vAh3uoiLmm/Bandana (feat. Young Buck)/Dirty Audio, BL3R, Young Buck - Bandana (feat. Young Buck).mp3'),) \n",
      "\n",
      "[\"(PosixPath('..\", 'data', 'mp3s', '34FsCOAQ0U99vAh3uoiLmm', 'Bandana (feat. Young Buck)', \"Dirty Audio, BL3R, Young Buck - Bandana (feat. Young Buck).mp3'),)\"]\n"
     ]
    },
    {
     "ename": "TypeError",
     "evalue": "Invalid file: (PosixPath('../data/mp3s/34FsCOAQ0U99vAh3uoiLmm/Bandana (feat. Young Buck)/Dirty Audio, BL3R, Young Buck - Bandana (feat. Young Buck).mp3'),)",
     "output_type": "error",
     "traceback": [
      "\u001b[0;31m---------------------------------------------------------------------------\u001b[0m",
      "\u001b[0;31mTypeError\u001b[0m                                 Traceback (most recent call last)",
      "Cell \u001b[0;32mIn[38], line 11\u001b[0m\n\u001b[1;32m      9\u001b[0m \u001b[38;5;28mprint\u001b[39m(x)\n\u001b[1;32m     10\u001b[0m track_ids\u001b[38;5;241m.\u001b[39mappend(x[\u001b[38;5;241m3\u001b[39m])\n\u001b[0;32m---> 11\u001b[0m array \u001b[38;5;241m=\u001b[39m \u001b[43mget_feature\u001b[49m\u001b[43m(\u001b[49m\u001b[43mfile_path\u001b[49m\u001b[43m)\u001b[49m\n\u001b[1;32m     12\u001b[0m tracks\u001b[38;5;241m.\u001b[39mappend(array)\n\u001b[1;32m     13\u001b[0m count\u001b[38;5;241m+\u001b[39m\u001b[38;5;241m=\u001b[39m\u001b[38;5;241m1\u001b[39m\n",
      "Cell \u001b[0;32mIn[20], line 23\u001b[0m, in \u001b[0;36mget_feature\u001b[0;34m(file_path)\u001b[0m\n\u001b[1;32m     21\u001b[0m \u001b[38;5;28;01mdef\u001b[39;00m \u001b[38;5;21mget_feature\u001b[39m(file_path):\n\u001b[1;32m     22\u001b[0m   \u001b[38;5;66;03m# Extracting MFCC feature\u001b[39;00m\n\u001b[0;32m---> 23\u001b[0m   mfcc \u001b[38;5;241m=\u001b[39m \u001b[43mget_mfcc\u001b[49m\u001b[43m(\u001b[49m\u001b[43mfile_path\u001b[49m\u001b[43m)\u001b[49m\n\u001b[1;32m     24\u001b[0m   mfcc_mean \u001b[38;5;241m=\u001b[39m mfcc\u001b[38;5;241m.\u001b[39mmean(axis\u001b[38;5;241m=\u001b[39m\u001b[38;5;241m1\u001b[39m)\n\u001b[1;32m     25\u001b[0m   mfcc_min \u001b[38;5;241m=\u001b[39m mfcc\u001b[38;5;241m.\u001b[39mmin(axis\u001b[38;5;241m=\u001b[39m\u001b[38;5;241m1\u001b[39m)\n",
      "Cell \u001b[0;32mIn[20], line 2\u001b[0m, in \u001b[0;36mget_mfcc\u001b[0;34m(wav_file_path)\u001b[0m\n\u001b[1;32m      1\u001b[0m \u001b[38;5;28;01mdef\u001b[39;00m \u001b[38;5;21mget_mfcc\u001b[39m(wav_file_path):\n\u001b[0;32m----> 2\u001b[0m   y, sr \u001b[38;5;241m=\u001b[39m \u001b[43mlibrosa\u001b[49m\u001b[38;5;241;43m.\u001b[39;49m\u001b[43mload\u001b[49m\u001b[43m(\u001b[49m\u001b[43mwav_file_path\u001b[49m\u001b[43m,\u001b[49m\u001b[43m \u001b[49m\u001b[43moffset\u001b[49m\u001b[38;5;241;43m=\u001b[39;49m\u001b[38;5;241;43m0\u001b[39;49m\u001b[43m,\u001b[49m\u001b[43m \u001b[49m\u001b[43mduration\u001b[49m\u001b[38;5;241;43m=\u001b[39;49m\u001b[38;5;241;43m30\u001b[39;49m\u001b[43m)\u001b[49m\n\u001b[1;32m      3\u001b[0m   mfcc \u001b[38;5;241m=\u001b[39m np\u001b[38;5;241m.\u001b[39marray(librosa\u001b[38;5;241m.\u001b[39mfeature\u001b[38;5;241m.\u001b[39mmfcc(y\u001b[38;5;241m=\u001b[39my, sr\u001b[38;5;241m=\u001b[39msr))\n\u001b[1;32m      4\u001b[0m   \u001b[38;5;28;01mreturn\u001b[39;00m mfcc\n",
      "File \u001b[0;32m~/anaconda3/envs/brainstation_capstone/lib/python3.8/site-packages/librosa/core/audio.py:176\u001b[0m, in \u001b[0;36mload\u001b[0;34m(path, sr, mono, offset, duration, dtype, res_type)\u001b[0m\n\u001b[1;32m    173\u001b[0m \u001b[38;5;28;01melse\u001b[39;00m:\n\u001b[1;32m    174\u001b[0m     \u001b[38;5;66;03m# Otherwise try soundfile first, and then fall back if necessary\u001b[39;00m\n\u001b[1;32m    175\u001b[0m     \u001b[38;5;28;01mtry\u001b[39;00m:\n\u001b[0;32m--> 176\u001b[0m         y, sr_native \u001b[38;5;241m=\u001b[39m \u001b[43m__soundfile_load\u001b[49m\u001b[43m(\u001b[49m\u001b[43mpath\u001b[49m\u001b[43m,\u001b[49m\u001b[43m \u001b[49m\u001b[43moffset\u001b[49m\u001b[43m,\u001b[49m\u001b[43m \u001b[49m\u001b[43mduration\u001b[49m\u001b[43m,\u001b[49m\u001b[43m \u001b[49m\u001b[43mdtype\u001b[49m\u001b[43m)\u001b[49m\n\u001b[1;32m    178\u001b[0m     \u001b[38;5;28;01mexcept\u001b[39;00m sf\u001b[38;5;241m.\u001b[39mSoundFileRuntimeError \u001b[38;5;28;01mas\u001b[39;00m exc:\n\u001b[1;32m    179\u001b[0m         \u001b[38;5;66;03m# If soundfile failed, try audioread instead\u001b[39;00m\n\u001b[1;32m    180\u001b[0m         \u001b[38;5;28;01mif\u001b[39;00m \u001b[38;5;28misinstance\u001b[39m(path, (\u001b[38;5;28mstr\u001b[39m, pathlib\u001b[38;5;241m.\u001b[39mPurePath)):\n",
      "File \u001b[0;32m~/anaconda3/envs/brainstation_capstone/lib/python3.8/site-packages/librosa/core/audio.py:209\u001b[0m, in \u001b[0;36m__soundfile_load\u001b[0;34m(path, offset, duration, dtype)\u001b[0m\n\u001b[1;32m    206\u001b[0m     context \u001b[38;5;241m=\u001b[39m path\n\u001b[1;32m    207\u001b[0m \u001b[38;5;28;01melse\u001b[39;00m:\n\u001b[1;32m    208\u001b[0m     \u001b[38;5;66;03m# Otherwise, create the soundfile object\u001b[39;00m\n\u001b[0;32m--> 209\u001b[0m     context \u001b[38;5;241m=\u001b[39m \u001b[43msf\u001b[49m\u001b[38;5;241;43m.\u001b[39;49m\u001b[43mSoundFile\u001b[49m\u001b[43m(\u001b[49m\u001b[43mpath\u001b[49m\u001b[43m)\u001b[49m\n\u001b[1;32m    211\u001b[0m \u001b[38;5;28;01mwith\u001b[39;00m context \u001b[38;5;28;01mas\u001b[39;00m sf_desc:\n\u001b[1;32m    212\u001b[0m     sr_native \u001b[38;5;241m=\u001b[39m sf_desc\u001b[38;5;241m.\u001b[39msamplerate\n",
      "File \u001b[0;32m~/anaconda3/envs/brainstation_capstone/lib/python3.8/site-packages/soundfile.py:658\u001b[0m, in \u001b[0;36mSoundFile.__init__\u001b[0;34m(self, file, mode, samplerate, channels, subtype, endian, format, closefd)\u001b[0m\n\u001b[1;32m    655\u001b[0m \u001b[38;5;28mself\u001b[39m\u001b[38;5;241m.\u001b[39m_mode \u001b[38;5;241m=\u001b[39m mode\n\u001b[1;32m    656\u001b[0m \u001b[38;5;28mself\u001b[39m\u001b[38;5;241m.\u001b[39m_info \u001b[38;5;241m=\u001b[39m _create_info_struct(file, mode, samplerate, channels,\n\u001b[1;32m    657\u001b[0m                                  \u001b[38;5;28mformat\u001b[39m, subtype, endian)\n\u001b[0;32m--> 658\u001b[0m \u001b[38;5;28mself\u001b[39m\u001b[38;5;241m.\u001b[39m_file \u001b[38;5;241m=\u001b[39m \u001b[38;5;28;43mself\u001b[39;49m\u001b[38;5;241;43m.\u001b[39;49m\u001b[43m_open\u001b[49m\u001b[43m(\u001b[49m\u001b[43mfile\u001b[49m\u001b[43m,\u001b[49m\u001b[43m \u001b[49m\u001b[43mmode_int\u001b[49m\u001b[43m,\u001b[49m\u001b[43m \u001b[49m\u001b[43mclosefd\u001b[49m\u001b[43m)\u001b[49m\n\u001b[1;32m    659\u001b[0m \u001b[38;5;28;01mif\u001b[39;00m \u001b[38;5;28mset\u001b[39m(mode)\u001b[38;5;241m.\u001b[39missuperset(\u001b[38;5;124m'\u001b[39m\u001b[38;5;124mr+\u001b[39m\u001b[38;5;124m'\u001b[39m) \u001b[38;5;129;01mand\u001b[39;00m \u001b[38;5;28mself\u001b[39m\u001b[38;5;241m.\u001b[39mseekable():\n\u001b[1;32m    660\u001b[0m     \u001b[38;5;66;03m# Move write position to 0 (like in Python file objects)\u001b[39;00m\n\u001b[1;32m    661\u001b[0m     \u001b[38;5;28mself\u001b[39m\u001b[38;5;241m.\u001b[39mseek(\u001b[38;5;241m0\u001b[39m)\n",
      "File \u001b[0;32m~/anaconda3/envs/brainstation_capstone/lib/python3.8/site-packages/soundfile.py:1212\u001b[0m, in \u001b[0;36mSoundFile._open\u001b[0;34m(self, file, mode_int, closefd)\u001b[0m\n\u001b[1;32m   1209\u001b[0m     file_ptr \u001b[38;5;241m=\u001b[39m _snd\u001b[38;5;241m.\u001b[39msf_open_virtual(\u001b[38;5;28mself\u001b[39m\u001b[38;5;241m.\u001b[39m_init_virtual_io(file),\n\u001b[1;32m   1210\u001b[0m                                     mode_int, \u001b[38;5;28mself\u001b[39m\u001b[38;5;241m.\u001b[39m_info, _ffi\u001b[38;5;241m.\u001b[39mNULL)\n\u001b[1;32m   1211\u001b[0m \u001b[38;5;28;01melse\u001b[39;00m:\n\u001b[0;32m-> 1212\u001b[0m     \u001b[38;5;28;01mraise\u001b[39;00m \u001b[38;5;167;01mTypeError\u001b[39;00m(\u001b[38;5;124m\"\u001b[39m\u001b[38;5;124mInvalid file: \u001b[39m\u001b[38;5;132;01m{0!r}\u001b[39;00m\u001b[38;5;124m\"\u001b[39m\u001b[38;5;241m.\u001b[39mformat(\u001b[38;5;28mself\u001b[39m\u001b[38;5;241m.\u001b[39mname))\n\u001b[1;32m   1213\u001b[0m \u001b[38;5;28;01mif\u001b[39;00m file_ptr \u001b[38;5;241m==\u001b[39m _ffi\u001b[38;5;241m.\u001b[39mNULL:\n\u001b[1;32m   1214\u001b[0m     \u001b[38;5;66;03m# get the actual error code\u001b[39;00m\n\u001b[1;32m   1215\u001b[0m     err \u001b[38;5;241m=\u001b[39m _snd\u001b[38;5;241m.\u001b[39msf_error(file_ptr)\n",
      "\u001b[0;31mTypeError\u001b[0m: Invalid file: (PosixPath('../data/mp3s/34FsCOAQ0U99vAh3uoiLmm/Bandana (feat. Young Buck)/Dirty Audio, BL3R, Young Buck - Bandana (feat. Young Buck).mp3'),)"
     ]
    }
   ],
   "source": [
    "# Test to see if it could run through 5 songs\n",
    "tracks,track_ids = [], []\n",
    "count = 0\n",
    "for file_path in file_paths:\n",
    "    if count <= 4:\n",
    "        # print(file_path)\n",
    "        print('FILE PATH: \\n', f'{file_path} \\n')\n",
    "        x = str(file_path).split('/')\n",
    "        print(x)\n",
    "        track_ids.append(x[3])\n",
    "        array = get_feature(file_path)\n",
    "        tracks.append(array)\n",
    "        count+=1\n",
    "    else:\n",
    "        break\n",
    "df = pd.DataFrame(tracks, index = track_ids)\n",
    "# This implementation also scales everything to 498 dimensions"
   ]
  },
  {
   "cell_type": "code",
   "execution_count": 7,
   "id": "c3663d27-7a4f-4786-aceb-2b62869de6ea",
   "metadata": {},
   "outputs": [
    {
     "data": {
      "text/plain": [
       "(5, 498)"
      ]
     },
     "execution_count": 7,
     "metadata": {},
     "output_type": "execute_result"
    }
   ],
   "source": [
    "df.shape"
   ]
  }
 ],
 "metadata": {
  "kernelspec": {
   "display_name": "brainstation_capstone",
   "language": "python",
   "name": "brainstation_capstone"
  },
  "language_info": {
   "codemirror_mode": {
    "name": "ipython",
    "version": 3
   },
   "file_extension": ".py",
   "mimetype": "text/x-python",
   "name": "python",
   "nbconvert_exporter": "python",
   "pygments_lexer": "ipython3",
   "version": "3.8.17"
  }
 },
 "nbformat": 4,
 "nbformat_minor": 5
}
