{
 "cells": [
  {
   "cell_type": "code",
   "execution_count": 1,
   "id": "74a4da02-979b-4812-ba9a-3c8025a9bf20",
   "metadata": {},
   "outputs": [],
   "source": [
    "from pathlib import Path\n",
    "import numpy as np\n",
    "import pandas as pd\n",
    "import librosa\n",
    "import matplotlib.pyplot as plt\n",
    "import os\n",
    "from datetime import datetime\n",
    "pd.set_option('display.max_rows', None)\n",
    "pd.set_option('display.max_columns',None)"
   ]
  },
  {
   "cell_type": "code",
   "execution_count": 2,
   "id": "58557902-fb8e-4cf2-a4af-760beb69a652",
   "metadata": {},
   "outputs": [
    {
     "data": {
      "text/plain": [
       "'2023-08-07'"
      ]
     },
     "execution_count": 2,
     "metadata": {},
     "output_type": "execute_result"
    }
   ],
   "source": [
    "output_file_date = datetime.now().strftime(\"%Y-%m-%d\")\n",
    "output_file_date"
   ]
  },
  {
   "cell_type": "code",
   "execution_count": 3,
   "id": "099f5bd8-a949-4904-932f-6ea04f7adac4",
   "metadata": {},
   "outputs": [],
   "source": [
    "def get_mfcc(wav_file_path):\n",
    "  y, sr = librosa.load(wav_file_path, offset=0, duration=30)\n",
    "  mfcc = np.array(librosa.feature.mfcc(y=y, sr=sr))\n",
    "  return mfcc\n",
    "    \n",
    "def get_melspectrogram(wav_file_path):\n",
    "  y, sr = librosa.load(wav_file_path, offset=10, duration=240)\n",
    "  melspectrogram = np.array(librosa.feature.melspectrogram(y=y, sr=sr))\n",
    "  return melspectrogram\n",
    "\n",
    "def get_chroma_vector(wav_file_path):\n",
    "  y, sr = librosa.load(wav_file_path)\n",
    "  chroma = np.array(librosa.feature.chroma_stft(y=y, sr=sr))\n",
    "  return chroma\n",
    "\n",
    "def get_tonnetz(wav_file_path):\n",
    "  y, sr = librosa.load(wav_file_path)\n",
    "  tonnetz = np.array(librosa.feature.tonnetz(y=y, sr=sr))\n",
    "  return tonnetz\n",
    "\n",
    "def get_feature(file_path):\n",
    "  # Extracting MFCC feature\n",
    "  mfcc = get_mfcc(file_path)\n",
    "  mfcc_mean = mfcc.mean(axis=1)\n",
    "  mfcc_min = mfcc.min(axis=1)\n",
    "  mfcc_max = mfcc.max(axis=1)\n",
    "  mfcc_feature = np.concatenate( (mfcc_mean, mfcc_min, mfcc_max) )\n",
    "\n",
    "  # Extracting Mel Spectrogram feature\n",
    "  melspectrogram = get_melspectrogram(file_path)\n",
    "  melspectrogram_mean = melspectrogram.mean(axis=1)\n",
    "  melspectrogram_min = melspectrogram.min(axis=1)\n",
    "  melspectrogram_max = melspectrogram.max(axis=1)\n",
    "  melspectrogram_feature = np.concatenate( (melspectrogram_mean, melspectrogram_min, melspectrogram_max) )\n",
    "\n",
    "  # Extracting chroma vector feature\n",
    "  chroma = get_chroma_vector(file_path)\n",
    "  chroma_mean = chroma.mean(axis=1)\n",
    "  chroma_min = chroma.min(axis=1)\n",
    "  chroma_max = chroma.max(axis=1)\n",
    "  chroma_feature = np.concatenate( (chroma_mean, chroma_min, chroma_max) )\n",
    "\n",
    "  # Extracting tonnetz feature\n",
    "  tntz = get_tonnetz(file_path)\n",
    "  tntz_mean = tntz.mean(axis=1)\n",
    "  tntz_min = tntz.min(axis=1)\n",
    "  tntz_max = tntz.max(axis=1)\n",
    "  tntz_feature = np.concatenate( (tntz_mean, tntz_min, tntz_max) ) \n",
    "  \n",
    "  feature = np.concatenate( (chroma_feature, melspectrogram_feature, mfcc_feature, tntz_feature) )\n",
    "  return feature"
   ]
  },
  {
   "cell_type": "code",
   "execution_count": 4,
   "id": "d254954b-5616-4e23-986f-ea3f5f143b50",
   "metadata": {},
   "outputs": [],
   "source": [
    "# Need to read in Kaggle data for reverse lookup\n",
    "# IE: Once we have the song recommendations, we want to look up the information so that we can present that to the user\n",
    "kaggle = pd.read_csv(\"../data/SpotifyFeatures.csv\")"
   ]
  },
  {
   "cell_type": "code",
   "execution_count": 5,
   "id": "a0ea72f4-9b44-4900-8fc1-228967ee94ea",
   "metadata": {},
   "outputs": [],
   "source": [
    "data_dir = Path('../data/mp3s/')\n",
    "file_paths = data_dir.rglob('*.mp3')"
   ]
  },
  {
   "cell_type": "code",
   "execution_count": null,
   "id": "cadfa09b-0d91-44ab-aa28-f364708fe4e0",
   "metadata": {},
   "outputs": [],
   "source": [
    "vectorized_df.head()"
   ]
  },
  {
   "cell_type": "code",
   "execution_count": null,
   "id": "8a1d9371-f1f0-4a80-a128-4aa41b7fda4f",
   "metadata": {},
   "outputs": [],
   "source": [
    "vectorized_df.shape"
   ]
  },
  {
   "cell_type": "code",
   "execution_count": null,
   "id": "541e3d2a-182c-4191-89a6-fcdfc616c06a",
   "metadata": {},
   "outputs": [],
   "source": [
    "vectorized_df.to_parquet(f\"{output_file_date}_vectorized_audio_data.parquet\")"
   ]
  },
  {
   "cell_type": "code",
   "execution_count": null,
   "id": "09bf2aa3-c21e-4282-85d0-59f512070cdb",
   "metadata": {},
   "outputs": [],
   "source": [
    "vectorized_df.to_csv(f\"{output_file_date}_vectorized_audio_data.parquet\")"
   ]
  },
  {
   "cell_type": "code",
   "execution_count": null,
   "id": "5aca77ec-1f70-4d8d-9082-2882f1e8a732",
   "metadata": {},
   "outputs": [],
   "source": []
  },
  {
   "cell_type": "code",
   "execution_count": null,
   "id": "11e27eff-9b70-4f8c-bc32-63943b997e51",
   "metadata": {},
   "outputs": [],
   "source": []
  },
  {
   "cell_type": "markdown",
   "id": "5a2c5027-af4d-4871-a031-0fbb43fe5f4d",
   "metadata": {},
   "source": [
    "### Test Code"
   ]
  },
  {
   "cell_type": "code",
   "execution_count": 6,
   "id": "4c56aa53-e979-4662-9466-1f49c5de7a14",
   "metadata": {
    "scrolled": true
   },
   "outputs": [
    {
     "name": "stdout",
     "output_type": "stream",
     "text": [
      "FILE PATH: \n",
      " ../data/mp3s/1ZB2qWsheGabSEYvBYxjKn/Take on Me/Weezer - Take on Me.mp3 \n",
      "\n",
      "['..', 'data', 'mp3s', '1ZB2qWsheGabSEYvBYxjKn', 'Take on Me', 'Weezer - Take on Me.mp3']\n",
      "FILE PATH: \n",
      " ../data/mp3s/5V9H9J5GcUGY5ig029g5OU/Shkleepy/Manwolves - Shkleepy.mp3 \n",
      "\n",
      "['..', 'data', 'mp3s', '5V9H9J5GcUGY5ig029g5OU', 'Shkleepy', 'Manwolves - Shkleepy.mp3']\n",
      "FILE PATH: \n",
      " ../data/mp3s/34FsCOAQ0U99vAh3uoiLmm/Bandana (feat. Young Buck)/Dirty Audio, BL3R, Young Buck - Bandana (feat. Young Buck).mp3 \n",
      "\n",
      "['..', 'data', 'mp3s', '34FsCOAQ0U99vAh3uoiLmm', 'Bandana (feat. Young Buck)', 'Dirty Audio, BL3R, Young Buck - Bandana (feat. Young Buck).mp3']\n",
      "FILE PATH: \n",
      " ../data/mp3s/25mldAmMHYzXhDXCxTpTHy/Chloroform/Phoenix - Chloroform.mp3 \n",
      "\n",
      "['..', 'data', 'mp3s', '25mldAmMHYzXhDXCxTpTHy', 'Chloroform', 'Phoenix - Chloroform.mp3']\n",
      "FILE PATH: \n",
      " ../data/mp3s/1YaOBTTdptDf4vYKpFy56T/Mawaranai Toe Shoes/majiko - Mawaranai Toe Shoes.mp3 \n",
      "\n",
      "['..', 'data', 'mp3s', '1YaOBTTdptDf4vYKpFy56T', 'Mawaranai Toe Shoes', 'majiko - Mawaranai Toe Shoes.mp3']\n"
     ]
    }
   ],
   "source": [
    "# Test to see if it could run through 5 songs\n",
    "tracks,track_ids = [], []\n",
    "count = 0\n",
    "for file_path in file_paths:\n",
    "    if count <= 4:\n",
    "        # print(file_path)\n",
    "        print('FILE PATH: \\n', f'{file_path} \\n')\n",
    "        x = str(file_path).split('/')\n",
    "        print(x)\n",
    "        track_ids.append(x[3])\n",
    "        array = get_feature(file_path)\n",
    "        tracks.append(array)\n",
    "        count+=1\n",
    "    else:\n",
    "        break\n",
    "df = pd.DataFrame(tracks, index = track_ids)\n",
    "# This implementation also scales everything to 498 dimensions"
   ]
  },
  {
   "cell_type": "code",
   "execution_count": 7,
   "id": "c3663d27-7a4f-4786-aceb-2b62869de6ea",
   "metadata": {},
   "outputs": [
    {
     "data": {
      "text/plain": [
       "(5, 498)"
      ]
     },
     "execution_count": 7,
     "metadata": {},
     "output_type": "execute_result"
    }
   ],
   "source": [
    "df.shape"
   ]
  }
 ],
 "metadata": {
  "kernelspec": {
   "display_name": "brainstation_capstone",
   "language": "python",
   "name": "brainstation_capstone"
  },
  "language_info": {
   "codemirror_mode": {
    "name": "ipython",
    "version": 3
   },
   "file_extension": ".py",
   "mimetype": "text/x-python",
   "name": "python",
   "nbconvert_exporter": "python",
   "pygments_lexer": "ipython3",
   "version": "3.8.17"
  }
 },
 "nbformat": 4,
 "nbformat_minor": 5
}
