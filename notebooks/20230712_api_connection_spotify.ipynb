{
 "cells": [
  {
   "cell_type": "code",
   "execution_count": 2,
   "id": "185e12cc-e958-4fdc-8642-1e3998b2bd81",
   "metadata": {
    "tags": []
   },
   "outputs": [],
   "source": [
    "# Magic Commands\n",
    "# %load_ext jupyter_black\n",
    "%load_ext dotenv\n",
    "%dotenv ../brainstation_capstone_cfg.env"
   ]
  },
  {
   "cell_type": "code",
   "execution_count": 3,
   "id": "a249b103-4608-47dc-8d9d-b30ecbf8931a",
   "metadata": {
    "tags": []
   },
   "outputs": [],
   "source": [
    "# Package Imports\n",
    "import os\n",
    "import sys\n",
    "import pymysql\n",
    "import pandas as pd\n",
    "import numpy as np\n",
    "import matplotlib.pyplot as plt\n",
    "import seaborn as sns\n",
    "from scipy import stats\n",
    "import spotipy\n",
    "from spotipy.oauth2 import SpotifyClientCredentials\n",
    "\n",
    "pd.set_option(\"display.max_rows\", None)\n",
    "pd.set_option(\"display.max_columns\", None)\n",
    "pd.options.display.float_format = \"{:,.2f}\".format\n",
    "%matplotlib inline"
   ]
  },
  {
   "cell_type": "code",
   "execution_count": 4,
   "id": "4d6a9eb2-5109-41d8-beea-abb7bc622d0e",
   "metadata": {
    "tags": []
   },
   "outputs": [],
   "source": [
    "# Load Environment Variables\n",
    "SPOTIPY_CLIENT_ID = os.environ[\"SPOTIPY_CLIENT_ID\"]\n",
    "SPOTIPY_CLIENT_SECRET = os.environ[\"SPOTIPY_CLIENT_SECRET\"]"
   ]
  },
  {
   "cell_type": "code",
   "execution_count": null,
   "id": "88fabae0-8c58-43e6-9c72-9301c6aa0c40",
   "metadata": {},
   "outputs": [],
   "source": []
  },
  {
   "cell_type": "code",
   "execution_count": null,
   "id": "4f5daeef-6fca-44ae-b19b-c3287a5d75cf",
   "metadata": {},
   "outputs": [],
   "source": []
  },
  {
   "cell_type": "markdown",
   "id": "5b7f88c9-5335-46bb-9a00-0a5dbbb41d6c",
   "metadata": {},
   "source": [
    "### Examples from the Spotipy Documentation"
   ]
  },
  {
   "cell_type": "code",
   "execution_count": null,
   "id": "02ba0859-bed1-4d24-a236-0e95d1e87973",
   "metadata": {
    "tags": []
   },
   "outputs": [],
   "source": [
    "birdy_uri = \"spotify:artist:2WX2uTcsvV5OnS0inACecP\"\n",
    "spotify = spotipy.Spotify(client_credentials_manager=SpotifyClientCredentials())\n",
    "\n",
    "results = spotify.artist_albums(birdy_uri, album_type=\"album\")\n",
    "albums = results[\"items\"]\n",
    "while results[\"next\"]:\n",
    "    results = spotify.next(results)\n",
    "    albums.extend(results[\"items\"])\n",
    "\n",
    "for album in albums:\n",
    "    print(album[\"name\"])"
   ]
  },
  {
   "cell_type": "code",
   "execution_count": null,
   "id": "e1613161-5c1b-45dc-b887-873b2bbfe89e",
   "metadata": {
    "tags": []
   },
   "outputs": [],
   "source": [
    "lz_uri = \"spotify:artist:36QJpDe2go2KgaRleHCDTp\"\n",
    "\n",
    "spotify = spotipy.Spotify(client_credentials_manager=SpotifyClientCredentials())\n",
    "results = spotify.artist_top_tracks(lz_uri)\n",
    "\n",
    "for track in results[\"tracks\"][:10]:\n",
    "    print(\"track    : \" + track[\"name\"])\n",
    "    print(\"audio    : \" + track[\"preview_url\"])\n",
    "    print(\"cover art: \" + track[\"album\"][\"images\"][0][\"url\"])\n",
    "    print()"
   ]
  },
  {
   "cell_type": "code",
   "execution_count": null,
   "id": "77261c87-46ea-490b-9db8-c7bff296a329",
   "metadata": {
    "scrolled": true,
    "tags": []
   },
   "outputs": [],
   "source": [
    "auth_manager = SpotifyClientCredentials()\n",
    "sp = spotipy.Spotify(auth_manager=auth_manager)\n",
    "\n",
    "playlists = sp.user_playlists(\"spotify\")\n",
    "while playlists:\n",
    "    for i, playlist in enumerate(playlists[\"items\"]):\n",
    "        print(\n",
    "            \"%4d %s %s\"\n",
    "            % (i + 1 + playlists[\"offset\"], playlist[\"uri\"], playlist[\"name\"])\n",
    "        )\n",
    "    if playlists[\"next\"]:\n",
    "        playlists = sp.next(playlists)\n",
    "    else:\n",
    "        playlists = None"
   ]
  },
  {
   "cell_type": "code",
   "execution_count": null,
   "id": "c965c53c-aaff-427f-a542-84a15a8fe7c1",
   "metadata": {},
   "outputs": [],
   "source": []
  },
  {
   "cell_type": "code",
   "execution_count": null,
   "id": "ed40d3d2-8194-4ab0-a8eb-0299b861b6e0",
   "metadata": {},
   "outputs": [],
   "source": []
  },
  {
   "cell_type": "code",
   "execution_count": null,
   "id": "b7e61b6e-3633-4f84-a097-b75a67bd555e",
   "metadata": {},
   "outputs": [],
   "source": []
  },
  {
   "cell_type": "code",
   "execution_count": null,
   "id": "abbcf4f9-7388-4a8d-b706-2b336bf6c672",
   "metadata": {},
   "outputs": [],
   "source": []
  },
  {
   "cell_type": "code",
   "execution_count": null,
   "id": "45f8f1cf-016d-4755-a5a3-ea8cb5ebaab8",
   "metadata": {},
   "outputs": [],
   "source": []
  }
 ],
 "metadata": {
  "kernelspec": {
   "display_name": "brainstation_capstone",
   "language": "python",
   "name": "brainstation_capstone"
  },
  "language_info": {
   "codemirror_mode": {
    "name": "ipython",
    "version": 3
   },
   "file_extension": ".py",
   "mimetype": "text/x-python",
   "name": "python",
   "nbconvert_exporter": "python",
   "pygments_lexer": "ipython3",
   "version": "3.8.17"
  }
 },
 "nbformat": 4,
 "nbformat_minor": 5
}
