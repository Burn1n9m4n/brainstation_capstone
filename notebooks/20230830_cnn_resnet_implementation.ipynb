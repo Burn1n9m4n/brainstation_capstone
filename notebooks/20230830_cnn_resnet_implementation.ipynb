{
 "cells": [
  {
   "cell_type": "code",
   "execution_count": 1,
   "id": "24b3ec2d-2db1-4874-9cd9-f7cb4443feb6",
   "metadata": {},
   "outputs": [
    {
     "data": {
      "text/html": [
       "\n",
       "                <script type=\"application/javascript\" id=\"jupyter_black\">\n",
       "                (function() {\n",
       "                    if (window.IPython === undefined) {\n",
       "                        return\n",
       "                    }\n",
       "                    var msg = \"WARNING: it looks like you might have loaded \" +\n",
       "                        \"jupyter_black in a non-lab notebook with \" +\n",
       "                        \"`is_lab=True`. Please double check, and if \" +\n",
       "                        \"loading with `%load_ext` please review the README!\"\n",
       "                    console.log(msg)\n",
       "                    alert(msg)\n",
       "                })()\n",
       "                </script>\n",
       "                "
      ],
      "text/plain": [
       "<IPython.core.display.HTML object>"
      ]
     },
     "metadata": {},
     "output_type": "display_data"
    }
   ],
   "source": [
    "%load_ext jupyter_black"
   ]
  },
  {
   "cell_type": "code",
   "execution_count": 2,
   "id": "08c3ddb2-defb-43b8-81fc-e4e96f323bd5",
   "metadata": {},
   "outputs": [],
   "source": [
    "import spotipy\n",
    "from spotipy.oauth2 import SpotifyOAuth\n",
    "import os\n",
    "import sys\n",
    "import pandas as pd\n",
    "import numpy as np\n",
    "import requests\n",
    "from spotify_dl import spotify_dl\n",
    "from pathlib import Path\n",
    "import time\n",
    "import os\n",
    "from dotenv import load_dotenv  # changed magic command to explicit load\n",
    "import librosa\n",
    "import matplotlib.pyplot as plt\n",
    "from datetime import datetime\n",
    "from sklearn.metrics import pairwise\n",
    "from sklearn.model_selection import train_test_split\n",
    "from typing import List\n",
    "from flask import Flask, redirect, request\n",
    "import random\n",
    "from tensorflow.keras.applications import ResNet50V2\n",
    "from tensorflow.keras.models import Model\n",
    "from skimage.transform import resize\n",
    "\n",
    "\n",
    "pd.set_option(\"display.max_rows\", None)  # pandas dataframe formatting options\n",
    "pd.set_option(\"display.max_columns\", None)\n",
    "pd.options.display.float_format = \"{:,.2f}\".format\n",
    "\n",
    "\n",
    "custom_env_path = \"../../brainstation_capstone_cfg.env\"  # environment variables file"
   ]
  },
  {
   "cell_type": "markdown",
   "id": "dc7587ec-3a9a-4171-8894-81a2442e5bfc",
   "metadata": {},
   "source": [
    "## Read in Existing Data"
   ]
  },
  {
   "cell_type": "code",
   "execution_count": 3,
   "id": "59b95ad0-590d-49fe-919a-c6611b333c39",
   "metadata": {},
   "outputs": [],
   "source": [
    "# Numpy MP3 directory: ../data/vectorized_mp3s/raw/\n",
    "data_dir = Path(\"../data/vectorized_mp3s/raw/\")\n",
    "npy_glob = data_dir.rglob(\"*.npy\")\n",
    "file_paths = [file_path for file_path in npy_glob]\n",
    "\n",
    "# Generate Track ID List\n",
    "track_ids = []\n",
    "for file_path in file_paths:\n",
    "    track_id = str(file_path).split(\"_\")[2].split(\".\")[0]\n",
    "    track_ids.append(track_id)\n",
    "track_ids = list(set(track_ids))  # removes the duplicates from list"
   ]
  },
  {
   "cell_type": "code",
   "execution_count": 4,
   "id": "08373bf2-312b-4d42-9673-6e72b5d42ab3",
   "metadata": {},
   "outputs": [
    {
     "name": "stdout",
     "output_type": "stream",
     "text": [
      "mel resize shape:  (224, 224)\n",
      "chroma resize shape:  (224, 224)\n",
      "tonnetz resize shape:  (224, 224)\n"
     ]
    }
   ],
   "source": [
    "height = 224\n",
    "width = 224\n",
    "channels = 3\n",
    "for file_path in file_paths:\n",
    "    if \"1ZB2qWsheGabSEYvBYxjKn\" in str(file_path):\n",
    "        melspectrogram = np.load(\n",
    "            f\"../data/vectorized_mp3s/raw/melspectrogram_{track_id}.npy\"\n",
    "        )\n",
    "        chroma = np.load(f\"../data/vectorized_mp3s/raw/chroma_{track_id}.npy\")\n",
    "        tonnetz = np.load(f\"../data/vectorized_mp3s/raw/tonnetz_{track_id}.npy\")\n",
    "        mel_resize = resize(melspectrogram, (height, width))\n",
    "        chroma_resize = resize(chroma, (height, width))\n",
    "        tonnetz_resize = resize(tonnetz, (height, width))\n",
    "print(\"mel resize shape: \", mel_resize.shape)\n",
    "print(\"chroma resize shape: \", chroma_resize.shape)\n",
    "print(\"tonnetz resize shape: \", tonnetz_resize.shape)"
   ]
  },
  {
   "cell_type": "code",
   "execution_count": 5,
   "id": "6c1b9263-1e61-490a-8a9a-133552071ef4",
   "metadata": {},
   "outputs": [
    {
     "data": {
      "text/plain": [
       "(224, 224)"
      ]
     },
     "execution_count": 5,
     "metadata": {},
     "output_type": "execute_result"
    }
   ],
   "source": [
    "resize(melspectrogram, (224, 224)).shape"
   ]
  },
  {
   "cell_type": "code",
   "execution_count": 6,
   "id": "171e8c45-e1fc-4735-887d-af5d488c12d5",
   "metadata": {},
   "outputs": [],
   "source": [
    "# Bringing down the images to three dimensions, we can lose the MFCC since that is a component of the melspectrogram"
   ]
  },
  {
   "cell_type": "code",
   "execution_count": 7,
   "id": "6da06d64-5a5b-408b-953b-ad2bbb4e2fe4",
   "metadata": {},
   "outputs": [
    {
     "data": {
      "text/plain": [
       "11578"
      ]
     },
     "execution_count": 7,
     "metadata": {},
     "output_type": "execute_result"
    }
   ],
   "source": [
    "len(track_ids)"
   ]
  },
  {
   "cell_type": "code",
   "execution_count": 20,
   "id": "bcf7b184-d72d-4fda-991c-3ac16806f0c1",
   "metadata": {},
   "outputs": [
    {
     "data": {
      "text/plain": [
       "<Figure size 640x480 with 0 Axes>"
      ]
     },
     "execution_count": 20,
     "metadata": {},
     "output_type": "execute_result"
    },
    {
     "data": {
      "image/png": "[encoded data removed]",
      "text/plain": [
       "<Figure size 640x480 with 1 Axes>"
      ]
     },
     "metadata": {},
     "output_type": "display_data"
    },
    {
     "data": {
      "text/plain": [
       "<Figure size 640x480 with 0 Axes>"
      ]
     },
     "metadata": {},
     "output_type": "display_data"
    }
   ],
   "source": [
    "layers = [mel_resize, chroma_resize, tonnetz_resize]\n",
    "image_stack = []\n",
    "for layer in layers:\n",
    "    max_val = layer.max()\n",
    "    min_val = layer.min()\n",
    "    range = max_val - min_val\n",
    "    norm = (layer - min_val) / range\n",
    "    scaled = norm * 255.999\n",
    "    as_int = scaled.astype(np.uint8)\n",
    "    image_stack.append(as_int)\n",
    "audio_rgb = np.dstack(image_stack)\n",
    "plt.figure()\n",
    "plt.imshow(audio_rgb[:, :, 1])\n",
    "plt.figure()\n",
    "# print(as_int)\n",
    "# print(\"\\n\")\n",
    "# print(layer.dtype)\n",
    "# print(layer.max())\n",
    "# print(layer.min())\n",
    "# print(\"\\n\")"
   ]
  },
  {
   "cell_type": "code",
   "execution_count": null,
   "id": "1bbd0dc9-3af7-438f-9734-a10aedc75142",
   "metadata": {},
   "outputs": [],
   "source": []
  },
  {
   "cell_type": "markdown",
   "id": "c46ce278-ac2f-4b4e-867b-a03b6e253130",
   "metadata": {},
   "source": [
    "## Neural Network Implementation"
   ]
  },
  {
   "cell_type": "code",
   "execution_count": null,
   "id": "76e7ca35-dc70-4545-bc77-5642ad15334d",
   "metadata": {},
   "outputs": [],
   "source": [
    "def set_random_seed(seed):\n",
    "    \n",
    "    '''Random seeds for reproducability'''\n",
    "    \n",
    "    random.seed(seed)\n",
    "    tf.random.set_seed(seed)"
   ]
  },
  {
   "cell_type": "code",
   "execution_count": null,
   "id": "13169cd4-937e-4031-b550-d60bb5d306fc",
   "metadata": {},
   "outputs": [],
   "source": [
    "res_model = ResNet50V2(weights='imagenet',\n",
    "                   include_top=False,\n",
    "                   input_shape=(height,width,channels))\n",
    "res_model.summary()"
   ]
  },
  {
   "cell_type": "code",
   "execution_count": null,
   "id": "58f40995-fc9f-470c-b144-6f66b7416bfd",
   "metadata": {},
   "outputs": [],
   "source": []
  },
  {
   "cell_type": "code",
   "execution_count": null,
   "id": "87835840-fb3c-43df-9592-e6518dcd2295",
   "metadata": {},
   "outputs": [],
   "source": []
  },
  {
   "cell_type": "code",
   "execution_count": null,
   "id": "9ba2c814-e7e3-4b29-98fc-08472c9610d2",
   "metadata": {},
   "outputs": [],
   "source": []
  },
  {
   "cell_type": "code",
   "execution_count": null,
   "id": "17d48761-f661-4508-a028-0ba0ff2f1a03",
   "metadata": {},
   "outputs": [],
   "source": []
  },
  {
   "cell_type": "code",
   "execution_count": null,
   "id": "59172dfb-a2df-4440-adb3-f8b02eab4b3e",
   "metadata": {},
   "outputs": [],
   "source": []
  }
 ],
 "metadata": {
  "kernelspec": {
   "display_name": "brainstation_capstone",
   "language": "python",
   "name": "brainstation_capstone"
  },
  "language_info": {
   "codemirror_mode": {
    "name": "ipython",
    "version": 3
   },
   "file_extension": ".py",
   "mimetype": "text/x-python",
   "name": "python",
   "nbconvert_exporter": "python",
   "pygments_lexer": "ipython3",
   "version": "3.8.17"
  }
 },
 "nbformat": 4,
 "nbformat_minor": 5
}
