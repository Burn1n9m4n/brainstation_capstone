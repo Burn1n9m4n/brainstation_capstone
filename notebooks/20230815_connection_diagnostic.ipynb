{
 "cells": [
  {
   "cell_type": "code",
   "execution_count": 14,
   "id": "24e8fb5f-3d73-4b45-8e56-c1df80be3f3c",
   "metadata": {},
   "outputs": [
    {
     "name": "stdout",
     "output_type": "stream",
     "text": [
      "The dotenv extension is already loaded. To reload it, use:\n",
      "  %reload_ext dotenv\n"
     ]
    }
   ],
   "source": [
    "%load_ext dotenv\n",
    "%dotenv ../brainstation_capstone_cfg.env"
   ]
  },
  {
   "cell_type": "code",
   "execution_count": 15,
   "id": "f102a301-b036-4eb3-9824-7d85cf4526c6",
   "metadata": {},
   "outputs": [],
   "source": [
    "import requests\n",
    "import base64\n",
    "import os"
   ]
  },
  {
   "cell_type": "code",
   "execution_count": 18,
   "id": "7d333998-ec38-4d46-b566-cd9d71761e34",
   "metadata": {},
   "outputs": [
    {
     "name": "stdout",
     "output_type": "stream",
     "text": [
      "Playlist creation failed.\n"
     ]
    }
   ],
   "source": [
    "# Replace these values with your own\n",
    "CLIENT_ID = os.environ[\"SPOTIPY_CLIENT_ID\"]\n",
    "CLIENT_SECRET =  os.environ[\"SPOTIPY_CLIENT_SECRET\"]\n",
    "\n",
    "# Encode client credentials for authorization\n",
    "client_creds = f\"{CLIENT_ID}:{CLIENT_SECRET}\"\n",
    "client_creds_b64 = base64.b64encode(client_creds.encode()).decode()\n",
    "\n",
    "# API endpoints\n",
    "AUTH_URL = \"https://accounts.spotify.com/api/token\"\n",
    "PLAYLISTS_URL = \"https://api.spotify.com/v1/me/playlists\"\n",
    "\n",
    "# Request access token\n",
    "auth_response = requests.post(\n",
    "    AUTH_URL,\n",
    "    data={\"grant_type\": \"client_credentials\"},\n",
    "    headers={\"Authorization\": f\"Basic {client_creds_b64}\"}\n",
    ")\n",
    "auth_data = auth_response.json()\n",
    "access_token = auth_data['access_token']\n",
    "# Create a private playlist\n",
    "playlist_name = \"My Private Playlist\"\n",
    "headers = {\n",
    "    \"Authorization\": f\"Bearer {access_token}\",\n",
    "    \"Content-Type\": \"application/json\"\n",
    "}\n",
    "data = {\n",
    "    \"name\": playlist_name,\n",
    "    \"public\": False  # Set to False to make it private\n",
    "}\n",
    "response = requests.post(\n",
    "    PLAYLISTS_URL,\n",
    "    json=data,\n",
    "    headers=headers\n",
    ")\n",
    "\n",
    "if response.status_code == 201:\n",
    "    print(f\"Private playlist '{playlist_name}' created successfully.\")\n",
    "else:\n",
    "    print(\"Playlist creation failed.\")"
   ]
  },
  {
   "cell_type": "code",
   "execution_count": 17,
   "id": "b77f6f49-63f2-4053-9581-2c11555baaf1",
   "metadata": {},
   "outputs": [
    {
     "name": "stdout",
     "output_type": "stream",
     "text": [
      "Failed to acquire access token: {'error': 'invalid_client', 'error_description': 'Invalid client'}\n",
      "Response Status Code: 401\n",
      "Response JSON: {'error': {'status': 401, 'message': 'Unauthorized.'}}\n"
     ]
    }
   ],
   "source": [
    "import requests\n",
    "import base64\n",
    "\n",
    "# Replace these values with your own\n",
    "CLIENT_ID = \"your_client_id\"\n",
    "CLIENT_SECRET = \"your_client_secret\"\n",
    "\n",
    "# Encode client credentials for authorization\n",
    "client_creds = f\"{CLIENT_ID}:{CLIENT_SECRET}\"\n",
    "client_creds_b64 = base64.b64encode(client_creds.encode()).decode()\n",
    "\n",
    "# API endpoints\n",
    "AUTH_URL = \"https://accounts.spotify.com/api/token\"\n",
    "PLAYLISTS_URL = \"https://api.spotify.com/v1/me/playlists\"\n",
    "\n",
    "# Request access token\n",
    "auth_response = requests.post(\n",
    "    AUTH_URL,\n",
    "    data={\"grant_type\": \"client_credentials\"},\n",
    "    headers={\"Authorization\": f\"Basic {client_creds_b64}\"}\n",
    ")\n",
    "\n",
    "auth_data = auth_response.json()\n",
    "if \"access_token\" in auth_data:\n",
    "    access_token = auth_data['access_token']\n",
    "    print(\"Access token acquired successfully.\")\n",
    "else:\n",
    "    print(\"Failed to acquire access token:\", auth_data)\n",
    "\n",
    "# Create a private playlist\n",
    "playlist_name = \"My Private Playlist\"\n",
    "headers = {\n",
    "    \"Authorization\": f\"Bearer {access_token}\",\n",
    "    \"Content-Type\": \"application/json\"\n",
    "}\n",
    "data = {\n",
    "    \"name\": playlist_name,\n",
    "    \"public\": False\n",
    "}\n",
    "response = requests.post(\n",
    "    PLAYLISTS_URL,\n",
    "    json=data,\n",
    "    headers=headers\n",
    ")\n",
    "\n",
    "print(\"Response Status Code:\", response.status_code)\n",
    "print(\"Response JSON:\", response.json())\n"
   ]
  },
  {
   "cell_type": "code",
   "execution_count": 13,
   "id": "94e08615-50a9-4a39-b06d-e2da2554dfda",
   "metadata": {},
   "outputs": [
    {
     "name": "stdout",
     "output_type": "stream",
     "text": [
      " * Serving Flask app '__main__'\n",
      " * Debug mode: on\n"
     ]
    },
    {
     "name": "stderr",
     "output_type": "stream",
     "text": [
      "\u001b[31m\u001b[1mWARNING: This is a development server. Do not use it in a production deployment. Use a production WSGI server instead.\u001b[0m\n",
      " * Running on http://127.0.0.1:5000\n",
      "\u001b[33mPress CTRL+C to quit\u001b[0m\n",
      " * Restarting with stat\n",
      "Traceback (most recent call last):\n",
      "  File \"/Users/vii/anaconda3/envs/brainstation_capstone/lib/python3.8/site-packages/ipykernel_launcher.py\", line 17, in <module>\n",
      "    app.launch_new_instance()\n",
      "  File \"/Users/vii/anaconda3/envs/brainstation_capstone/lib/python3.8/site-packages/traitlets/config/application.py\", line 991, in launch_instance\n",
      "    app.initialize(argv)\n",
      "  File \"/Users/vii/anaconda3/envs/brainstation_capstone/lib/python3.8/site-packages/traitlets/config/application.py\", line 113, in inner\n",
      "    return method(app, *args, **kwargs)\n",
      "  File \"/Users/vii/anaconda3/envs/brainstation_capstone/lib/python3.8/site-packages/ipykernel/kernelapp.py\", line 665, in initialize\n",
      "    self.init_sockets()\n",
      "  File \"/Users/vii/anaconda3/envs/brainstation_capstone/lib/python3.8/site-packages/ipykernel/kernelapp.py\", line 309, in init_sockets\n",
      "    self.shell_port = self._bind_socket(self.shell_socket, self.shell_port)\n",
      "  File \"/Users/vii/anaconda3/envs/brainstation_capstone/lib/python3.8/site-packages/ipykernel/kernelapp.py\", line 246, in _bind_socket\n",
      "    return self._try_bind_socket(s, port)\n",
      "  File \"/Users/vii/anaconda3/envs/brainstation_capstone/lib/python3.8/site-packages/ipykernel/kernelapp.py\", line 222, in _try_bind_socket\n",
      "    s.bind(\"tcp://%s:%i\" % (self.ip, port))\n",
      "  File \"/Users/vii/anaconda3/envs/brainstation_capstone/lib/python3.8/site-packages/zmq/sugar/socket.py\", line 302, in bind\n",
      "    super().bind(addr)\n",
      "  File \"zmq/backend/cython/socket.pyx\", line 564, in zmq.backend.cython.socket.Socket.bind\n",
      "  File \"zmq/backend/cython/checkrc.pxd\", line 28, in zmq.backend.cython.checkrc._check_rc\n",
      "zmq.error.ZMQError: Address already in use (addr='tcp://127.0.0.1:50066')\n"
     ]
    },
    {
     "ename": "SystemExit",
     "evalue": "1",
     "output_type": "error",
     "traceback": [
      "An exception has occurred, use %tb to see the full traceback.\n",
      "\u001b[0;31mSystemExit\u001b[0m\u001b[0;31m:\u001b[0m 1\n"
     ]
    }
   ],
   "source": [
    "from flask import Flask, request, redirect\n",
    "import requests\n",
    "import base64\n",
    "\n",
    "app = Flask(__name__)\n",
    "\n",
    "# Replace these values with your own\n",
    "CLIENT_ID = \"your_client_id\"\n",
    "CLIENT_SECRET = \"your_client_secret\"\n",
    "REDIRECT_URI = \"http://localhost:5000/callback\"  # Update with your redirect URI\n",
    "SCOPE = \"playlist-modify-private\"\n",
    "\n",
    "# Step 1: Redirect the user to the authorization URL\n",
    "@app.route(\"/login\")\n",
    "def login():\n",
    "    auth_url = (\n",
    "        f\"https://accounts.spotify.com/authorize\"\n",
    "        f\"?client_id={CLIENT_ID}\"\n",
    "        f\"&response_type=code\"\n",
    "        f\"&redirect_uri={REDIRECT_URI}\"\n",
    "        f\"&scope={SCOPE}\"\n",
    "    )\n",
    "    return redirect(auth_url)\n",
    "\n",
    "# Step 2: Handle the authorization code and exchange for an access token\n",
    "@app.route(\"/callback\")\n",
    "def callback():\n",
    "    auth_code = request.args.get(\"code\")\n",
    "    \n",
    "    # Exchange authorization code for access token\n",
    "    auth_headers = {\n",
    "        \"Authorization\": f\"Basic {base64.b64encode((CLIENT_ID + ':' + CLIENT_SECRET).encode()).decode()}\"\n",
    "    }\n",
    "    auth_data = {\n",
    "        \"grant_type\": \"authorization_code\",\n",
    "        \"code\": auth_code,\n",
    "        \"redirect_uri\": REDIRECT_URI,\n",
    "    }\n",
    "    \n",
    "    auth_response = requests.post(\n",
    "        \"https://accounts.spotify.com/api/token\",\n",
    "        data=auth_data,\n",
    "        headers=auth_headers\n",
    "    )\n",
    "    \n",
    "    access_token = auth_response.json().get(\"access_token\")\n",
    "\n",
    "    # Step 3: Use the access token to create a private playlist\n",
    "    playlist_headers = {\n",
    "        \"Authorization\": f\"Bearer {access_token}\",\n",
    "        \"Content-Type\": \"application/json\"\n",
    "    }\n",
    "    playlist_data = {\n",
    "        \"name\": \"My Private Playlist\",\n",
    "        \"public\": False\n",
    "    }\n",
    "    \n",
    "    playlist_response = requests.post(\n",
    "        \"https://api.spotify.com/v1/me/playlists\",\n",
    "        json=playlist_data,\n",
    "        headers=playlist_headers\n",
    "    )\n",
    "    \n",
    "    return \"Private playlist created!\"\n",
    "\n",
    "if __name__ == \"__main__\":\n",
    "    app.run(debug=True)\n"
   ]
  },
  {
   "cell_type": "code",
   "execution_count": null,
   "id": "716622e3-b21c-4ea0-bec9-40522204dd08",
   "metadata": {},
   "outputs": [],
   "source": []
  }
 ],
 "metadata": {
  "kernelspec": {
   "display_name": "brainstation_capstone",
   "language": "python",
   "name": "brainstation_capstone"
  },
  "language_info": {
   "codemirror_mode": {
    "name": "ipython",
    "version": 3
   },
   "file_extension": ".py",
   "mimetype": "text/x-python",
   "name": "python",
   "nbconvert_exporter": "python",
   "pygments_lexer": "ipython3",
   "version": "3.8.17"
  }
 },
 "nbformat": 4,
 "nbformat_minor": 5
}
