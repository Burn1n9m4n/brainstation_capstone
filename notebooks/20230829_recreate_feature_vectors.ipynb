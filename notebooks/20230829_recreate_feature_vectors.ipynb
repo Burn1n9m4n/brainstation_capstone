{
 "cells": [
  {
   "cell_type": "code",
   "execution_count": 1,
   "id": "c103538c-31cf-4578-b321-81fad9cf7a51",
   "metadata": {},
   "outputs": [
    {
     "data": {
      "text/html": [
       "\n",
       "                <script type=\"application/javascript\" id=\"jupyter_black\">\n",
       "                (function() {\n",
       "                    if (window.IPython === undefined) {\n",
       "                        return\n",
       "                    }\n",
       "                    var msg = \"WARNING: it looks like you might have loaded \" +\n",
       "                        \"jupyter_black in a non-lab notebook with \" +\n",
       "                        \"`is_lab=True`. Please double check, and if \" +\n",
       "                        \"loading with `%load_ext` please review the README!\"\n",
       "                    console.log(msg)\n",
       "                    alert(msg)\n",
       "                })()\n",
       "                </script>\n",
       "                "
      ],
      "text/plain": [
       "<IPython.core.display.HTML object>"
      ]
     },
     "metadata": {},
     "output_type": "display_data"
    }
   ],
   "source": [
    "%load_ext jupyter_black"
   ]
  },
  {
   "cell_type": "markdown",
   "id": "1a01a7b9-27ec-48b8-9841-d0277dc3c102",
   "metadata": {},
   "source": [
    "## Load Packages <a class=\"anchor\" id=\"load_packages\"></a>"
   ]
  },
  {
   "cell_type": "markdown",
   "id": "98e5572c-23c1-40ad-afdc-844af7a3dc51",
   "metadata": {},
   "source": [
    "Packages relavant to th code are loaded below. Additionally, specific options or parameters are also set. For example, display options are set for `pandas` and the environment path to the environment variable file is provided for the `dotenv` package."
   ]
  },
  {
   "cell_type": "code",
   "execution_count": 2,
   "id": "32f29054-c1f1-4712-9c2a-f1a614a17341",
   "metadata": {},
   "outputs": [],
   "source": [
    "import spotipy\n",
    "from spotipy.oauth2 import SpotifyOAuth\n",
    "import os\n",
    "import sys\n",
    "import pandas as pd\n",
    "import numpy as np\n",
    "import requests\n",
    "from spotify_dl import spotify_dl\n",
    "from pathlib import Path\n",
    "import time\n",
    "import os\n",
    "from dotenv import load_dotenv  # changed magic command to explicit load\n",
    "import librosa\n",
    "import matplotlib.pyplot as plt\n",
    "from datetime import datetime\n",
    "from sklearn.metrics import pairwise\n",
    "from sklearn.model_selection import train_test_split\n",
    "from typing import List\n",
    "from flask import Flask, redirect, request\n",
    "\n",
    "pd.set_option(\"display.max_rows\", None)  # pandas dataframe formatting options\n",
    "pd.set_option(\"display.max_columns\", None)\n",
    "pd.options.display.float_format = \"{:,.2f}\".format\n",
    "\n",
    "\n",
    "custom_env_path = \"../../brainstation_capstone_cfg.env\"  # environment variables file"
   ]
  },
  {
   "cell_type": "code",
   "execution_count": null,
   "id": "a1d4a1c2-04f4-484a-9704-12bde7e9dd6c",
   "metadata": {},
   "outputs": [],
   "source": []
  },
  {
   "cell_type": "code",
   "execution_count": null,
   "id": "b847a0c1-75c6-4277-a019-8b3515e66453",
   "metadata": {},
   "outputs": [],
   "source": []
  },
  {
   "cell_type": "markdown",
   "id": "cee9b650-9391-4286-aab6-1d1e18c679c2",
   "metadata": {},
   "source": [
    "## Setting Environment Variables <a class=\"anchor\" id=\"set_env_vars\"></a>"
   ]
  },
  {
   "cell_type": "code",
   "execution_count": 3,
   "id": "70ee6b3d-3f54-4ccb-8b1b-fcf19dfafea5",
   "metadata": {},
   "outputs": [],
   "source": [
    "# Spotify Developer Credentials\n",
    "load_dotenv(dotenv_path=custom_env_path)\n",
    "CLIENT_ID = os.environ.get(\"SPOTIPY_CLIENT_ID\")\n",
    "# client ID from app\n",
    "CLIENT_SECRET = os.environ.get(\"SPOTIPY_CLIENT_SECRET\")\n",
    "# client secret from app\n",
    "REDIRECT_URI = os.environ.get(\"REDIRECT_URI\")\n",
    "# redirect URI - the URI used here matches the one used within the app\n",
    "SCOPE = \"{} {}\".format(os.environ.get(\"SCOPE_PUBLIC\"), os.environ.get(\"SCOPE_PRIVATE\"))\n",
    "# formatted the scope this way to allow for custom configurations in the future\n",
    "USERNAME = os.environ.get(\"SPOTIFY_USERNAME\")\n",
    "# Spotify username"
   ]
  },
  {
   "cell_type": "markdown",
   "id": "c8906cc5-0cb9-412a-87c0-ceb688a5e6bb",
   "metadata": {},
   "source": [
    "[Back to Table of Contents](#toc)"
   ]
  },
  {
   "cell_type": "code",
   "execution_count": null,
   "id": "1a5081a6-7bd4-47f2-adcf-0037ccece1d7",
   "metadata": {},
   "outputs": [],
   "source": []
  },
  {
   "cell_type": "markdown",
   "id": "41ef30e1-e44b-46d7-bb3f-f7c9c9ec6455",
   "metadata": {},
   "source": [
    "## Feature Function Definitions"
   ]
  },
  {
   "cell_type": "code",
   "execution_count": 34,
   "id": "81109e0c-d01b-49b9-9bbd-ea9bd7789905",
   "metadata": {},
   "outputs": [],
   "source": [
    "# How was this solved? sampling rate must be explicitly passed to every function\n",
    "# This includes the display function itself!\n",
    "# Hence, the sampling rate is now an output from the function itself\n",
    "def get_mfcc(y, sr):\n",
    "    mfcc = librosa.power_to_db(librosa.feature.mfcc(y=y, sr=sr), ref=np.max)\n",
    "    return mfcc\n",
    "\n",
    "\n",
    "def get_melspectrogram(y, sr):\n",
    "    melspectrogram = librosa.power_to_db(\n",
    "        librosa.feature.melspectrogram(y=y, sr=sr), ref=np.max\n",
    "    )\n",
    "    # this is a power spectrum (amplitude squared)\n",
    "    return melspectrogram\n",
    "\n",
    "\n",
    "def get_chroma_vector(y, sr):\n",
    "    chroma = librosa.feature.chroma_stft(y=y, sr=sr)\n",
    "    return chroma\n",
    "\n",
    "\n",
    "def get_tonnetz(y, sr):\n",
    "    tonnetz = librosa.feature.tonnetz(y=y, sr=sr)\n",
    "    return tonnetz\n",
    "\n",
    "\n",
    "def get_feature(input_file_path, track_id):\n",
    "    # Load data\n",
    "    y, sr = librosa.load(\n",
    "        input_file_path,\n",
    "        sr=None,\n",
    "        offset=10,\n",
    "        duration=120,\n",
    "    )\n",
    "    # Extracting MFCC feature\n",
    "    mfcc = get_mfcc(y, sr)\n",
    "    mfcc_mean = mfcc.mean(axis=1)\n",
    "    mfcc_min = mfcc.min(axis=1)\n",
    "    mfcc_max = mfcc.max(axis=1)\n",
    "    mfcc_feature = np.concatenate((mfcc_mean, mfcc_min, mfcc_max))\n",
    "    np.save(f\"../data/vectorized_mp3s/mfcc_{track_id}.npy\", mfcc_feature)\n",
    "\n",
    "    # Extracting Mel Spectrogram feature\n",
    "    melspectrogram = get_melspectrogram(y, sr)\n",
    "    melspectrogram_mean = melspectrogram.mean(axis=1)\n",
    "    melspectrogram_min = melspectrogram.min(axis=1)\n",
    "    melspectrogram_max = melspectrogram.max(axis=1)\n",
    "    melspectrogram_feature = np.concatenate(\n",
    "        (melspectrogram_mean, melspectrogram_min, melspectrogram_max)\n",
    "    )\n",
    "    np.save(\n",
    "        f\"../data/vectorized_mp3s/melspectrogram_{track_id}.npy\", melspectrogram_feature\n",
    "    )\n",
    "\n",
    "    # Extracting chroma vector feature\n",
    "    chroma = get_chroma_vector(y, sr)\n",
    "    chroma_mean = chroma.mean(axis=1)\n",
    "    chroma_min = chroma.min(axis=1)\n",
    "    chroma_max = chroma.max(axis=1)\n",
    "    chroma_feature = np.concatenate((chroma_mean, chroma_min, chroma_max))\n",
    "    np.save(f\"../data/vectorized_mp3s/chroma_{track_id}.npy\", chroma_feature)\n",
    "\n",
    "    # Extracting tonnetz feature\n",
    "    tntz = get_tonnetz(y, sr)\n",
    "    tntz_mean = tntz.mean(axis=1)\n",
    "    tntz_min = tntz.min(axis=1)\n",
    "    tntz_max = tntz.max(axis=1)\n",
    "    tntz_feature = np.concatenate((tntz_mean, tntz_min, tntz_max))\n",
    "    np.save(f\"../data/vectorized_mp3s/tonnetz_{track_id}.npy\", tntz_feature)\n",
    "\n",
    "    return chroma_feature, melspectrogram_feature, mfcc_feature, tntz_feature\n",
    "    # feature = np.concatenate(\n",
    "    #     (chroma_feature, melspectrogram_feature, mfcc_feature, tntz_feature)\n",
    "    # )\n",
    "    # return feature\n",
    "\n",
    "\n",
    "# May not have use of this function yet....need to fix pairwise comparison\n",
    "# Save spectra one stage before as separate vectors BEFORE concatenation\n",
    "def create_spectra(spec_data, sr, type, track_id):\n",
    "    if type == \"mfcc\":\n",
    "        plt.figure()\n",
    "        librosa.display.specshow(mel_data, y_axis=\"mel\", x_axis=\"time\", sr=sr)\n",
    "        plt.title(\"Mel Frequency Cepstral Coefficients\")\n",
    "        plt.colorbar(format=\"%+2.0f dB\")\n",
    "        plt.savefig(f\"../data/mp3_spectra/{track_id}.png\", bbox_inches=\"tight\")\n",
    "    if type == \"melspectrogram\":\n",
    "        plt.figure()\n",
    "        librosa.display.specshow(mel_data, y_axis=\"mel\", x_axis=\"time\", sr=sr)\n",
    "        plt.title(\"Melspectrogram\")\n",
    "        plt.colorbar(format=\"%+2.0f dB\")\n",
    "        plt.savefig(f\"../data/mp3_spectra/{track_id}.png\", bbox_inches=\"tight\")\n",
    "    if type == \"chroma\":\n",
    "        plt.figure()\n",
    "        librosa.display.specshow(\n",
    "            mel_data, y_axis=\"chroma\", x_axis=\"time\", sr=sr, vmin=0, vmax=1\n",
    "        )\n",
    "        plt.title(\"Chroma STFT\")\n",
    "        plt.colorbar(format=\"%+2.0f dB\")\n",
    "        plt.savefig(f\"../data/mp3_spectra/{track_id}.png\", bbox_inches=\"tight\")\n",
    "    if type == \"tonnetz\":\n",
    "        plt.figure()\n",
    "        librosa.display.specshow(\n",
    "            mel_data, y_axis=\"tonnetz\", x_axis=\"time\", sr=sr, vmin=0, vmax=1\n",
    "        )\n",
    "        plt.title(\"Tonnetz\")\n",
    "        plt.colorbar(format=\"%+2.0f dB\")\n",
    "        plt.savefig(f\"../data/mp3_spectra/{track_id}.png\", bbox_inches=\"tight\")\n",
    "        # Will have to get the track_id to save the file\n",
    "        # Not sure if the spectra must have the axis labels or the title"
   ]
  },
  {
   "cell_type": "code",
   "execution_count": 35,
   "id": "ef4d2a16-6e3c-4ffd-8bb6-c5984371cb03",
   "metadata": {},
   "outputs": [],
   "source": [
    "test_file = \"/Users/vii/repos/brainstation_capstone/data/mp3s/1ZB2qWsheGabSEYvBYxjKn/Take on Me/Weezer - Take on Me.mp3\"\n",
    "track_id = \"1ZB2qWsheGabSEYvBYxjKn\"\n",
    "chroma_feature, melspectrogram_feature, mfcc_feature, tntz_feature = get_feature(\n",
    "    test_file, track_id\n",
    ")"
   ]
  },
  {
   "cell_type": "code",
   "execution_count": 41,
   "id": "61667f69-ffb9-40ff-b536-bfc382e1dd3c",
   "metadata": {},
   "outputs": [
    {
     "data": {
      "text/plain": [
       "array([4.8079693e-01, 4.7332811e-01, 4.6357048e-01, 5.2806771e-01,\n",
       "       4.2110389e-01, 4.6383226e-01, 4.3805096e-01, 5.2115756e-01,\n",
       "       5.3556848e-01, 4.2572179e-01, 4.7811046e-01, 4.3348038e-01,\n",
       "       1.2953511e-03, 8.6728914e-04, 3.4206294e-04, 4.9556966e-04,\n",
       "       6.2709115e-04, 8.0626103e-04, 3.5152116e-03, 4.4452250e-03,\n",
       "       6.3069914e-03, 3.7467566e-03, 3.2613403e-03, 1.3946538e-03,\n",
       "       1.0000000e+00, 1.0000000e+00, 1.0000000e+00, 1.0000000e+00,\n",
       "       1.0000000e+00, 1.0000000e+00, 1.0000000e+00, 1.0000000e+00,\n",
       "       1.0000000e+00, 1.0000000e+00, 1.0000000e+00, 1.0000000e+00],\n",
       "      dtype=float32)"
      ]
     },
     "execution_count": 41,
     "metadata": {},
     "output_type": "execute_result"
    }
   ],
   "source": [
    "chroma_feature"
   ]
  },
  {
   "cell_type": "code",
   "execution_count": 48,
   "id": "9f4da0d7-2b17-4918-9cc2-021050ed0b77",
   "metadata": {},
   "outputs": [
    {
     "data": {
      "text/plain": [
       "(36,)"
      ]
     },
     "execution_count": 48,
     "metadata": {},
     "output_type": "execute_result"
    }
   ],
   "source": [
    "chroma_feature.shape"
   ]
  },
  {
   "cell_type": "code",
   "execution_count": 42,
   "id": "60880f87-f13e-4993-9ee7-95242608992e",
   "metadata": {},
   "outputs": [
    {
     "data": {
      "text/plain": [
       "array([4.8079693e-01, 4.7332811e-01, 4.6357048e-01, 5.2806771e-01,\n",
       "       4.2110389e-01, 4.6383226e-01, 4.3805096e-01, 5.2115756e-01,\n",
       "       5.3556848e-01, 4.2572179e-01, 4.7811046e-01, 4.3348038e-01,\n",
       "       1.2953511e-03, 8.6728914e-04, 3.4206294e-04, 4.9556966e-04,\n",
       "       6.2709115e-04, 8.0626103e-04, 3.5152116e-03, 4.4452250e-03,\n",
       "       6.3069914e-03, 3.7467566e-03, 3.2613403e-03, 1.3946538e-03,\n",
       "       1.0000000e+00, 1.0000000e+00, 1.0000000e+00, 1.0000000e+00,\n",
       "       1.0000000e+00, 1.0000000e+00, 1.0000000e+00, 1.0000000e+00,\n",
       "       1.0000000e+00, 1.0000000e+00, 1.0000000e+00, 1.0000000e+00],\n",
       "      dtype=float32)"
      ]
     },
     "execution_count": 42,
     "metadata": {},
     "output_type": "execute_result"
    }
   ],
   "source": [
    "chroma_npy = np.load(\"../data/vectorized_mp3s/chroma_1ZB2qWsheGabSEYvBYxjKn.npy\")\n",
    "chroma_npy"
   ]
  },
  {
   "cell_type": "code",
   "execution_count": 43,
   "id": "9b54b943-4a9a-4cd1-9532-4e3f468e633a",
   "metadata": {},
   "outputs": [],
   "source": [
    "x = np.array([1, 2])"
   ]
  },
  {
   "cell_type": "code",
   "execution_count": 44,
   "id": "bd6674cb-9432-487f-ba55-702e24b8ba35",
   "metadata": {},
   "outputs": [
    {
     "data": {
      "text/plain": [
       "True"
      ]
     },
     "execution_count": 44,
     "metadata": {},
     "output_type": "execute_result"
    }
   ],
   "source": [
    "np.array_equal(\n",
    "    chroma_feature, chroma_npy\n",
    ")  # test if the two arrays are the same after saving and loading"
   ]
  },
  {
   "cell_type": "code",
   "execution_count": 47,
   "id": "325ab7b9-7066-4d6b-b872-44a828befcaa",
   "metadata": {},
   "outputs": [
    {
     "data": {
      "text/plain": [
       "False"
      ]
     },
     "execution_count": 47,
     "metadata": {},
     "output_type": "execute_result"
    }
   ],
   "source": [
    "np.array_equal(chroma_npy, x)  # sanity check"
   ]
  },
  {
   "cell_type": "code",
   "execution_count": null,
   "id": "f75a4290-68c7-4cbf-806d-b6bf466a8f6d",
   "metadata": {},
   "outputs": [],
   "source": []
  },
  {
   "cell_type": "code",
   "execution_count": null,
   "id": "5dfe6482-6f61-4e4f-9539-8e2c9080496c",
   "metadata": {},
   "outputs": [],
   "source": []
  },
  {
   "cell_type": "markdown",
   "id": "5327ceb1-2ea9-4130-82be-96f5eb2b2606",
   "metadata": {},
   "source": [
    "## Vectorize Data"
   ]
  },
  {
   "cell_type": "code",
   "execution_count": null,
   "id": "c7761700-dba5-428f-a8b8-12b62c2f4ee0",
   "metadata": {},
   "outputs": [],
   "source": [
    "data_dir = Path('../data/mp3s/')\n",
    "output_dir = Path('../data/vectorized_mp3s/')\n",
    "path_glob = data_dir.rglob('*.mp3')\n",
    "file_paths = []\n",
    "for file_path in path_glob:\n",
    "    file_paths.append(file_path) # creates a list for repeated iteration\n",
    "    # if this is not done, the .rglob command above has to be repeated to regenerate iterator\n",
    "len(file_paths) # number of mp3s in directory"
   ]
  },
  {
   "cell_type": "code",
   "execution_count": null,
   "id": "d80606ee-91d4-46b7-862b-1ee923322c2f",
   "metadata": {},
   "outputs": [],
   "source": [
    "data_dir = Path('../data/mp3s/')\n",
    "output_dir = Path('../data/vectorized_mp3s/')\n",
    "downloaded_path_glob = data_dir.rglob('*.mp3')\n",
    "output_path_glob = output_dir.rglob('*.parquet')\n",
    "count = 1\n",
    "file_paths = [file_path for file_path in downloaded_path_glob]\n",
    "print('Number of MP3 Files: ', len(file_paths),'\\n')\n",
    "vectorized_track_ids = [file_path.stem for file_path in output_path_glob]\n",
    "for file_path in file_paths:\n",
    "    print(f'{count}. FILE PATH: \\n', f'{file_path}')\n",
    "    path_split = str(file_path).split('/')\n",
    "    track_id = path_split[3]\n",
    "    if (len(vectorized_track_ids)>0) & (track_id in vectorized_track_ids):\n",
    "        print(f'{track_id} has already been vectorized...skipping...')\n",
    "        count+=1\n",
    "    else:\n",
    "        track = get_feature(file_path)\n",
    "        vectorized_df = pd.DataFrame(track).T\n",
    "        vectorized_df['track_id'] = track_id\n",
    "        vectorized_df = vectorized_df.set_index(vectorized_df.track_id).drop(columns = 'track_id')\n",
    "        vectorized_df.columns = vectorized_df.columns.astype(str)\n",
    "        vectorized_df.to_parquet(f\"../data/vectorized_mp3s/{track_id}.parquet\")\n",
    "        count+=1"
   ]
  },
  {
   "cell_type": "code",
   "execution_count": null,
   "id": "529924be-f3cc-4f8b-bac2-19da84a63a5e",
   "metadata": {},
   "outputs": [],
   "source": []
  },
  {
   "cell_type": "code",
   "execution_count": null,
   "id": "ea0eb169-20ae-4fcb-8c3d-c0d83a5e7e00",
   "metadata": {},
   "outputs": [],
   "source": []
  },
  {
   "cell_type": "code",
   "execution_count": null,
   "id": "a0f18dbe-ba09-4c64-ae07-da0167cccf9c",
   "metadata": {},
   "outputs": [],
   "source": []
  },
  {
   "cell_type": "code",
   "execution_count": null,
   "id": "181b74d6-02e3-465d-99f4-4da527fe770b",
   "metadata": {},
   "outputs": [],
   "source": []
  },
  {
   "cell_type": "code",
   "execution_count": null,
   "id": "82eff98e-63fe-4566-97dd-3b90732bbcfd",
   "metadata": {},
   "outputs": [],
   "source": []
  }
 ],
 "metadata": {
  "kernelspec": {
   "display_name": "brainstation_capstone",
   "language": "python",
   "name": "brainstation_capstone"
  },
  "language_info": {
   "codemirror_mode": {
    "name": "ipython",
    "version": 3
   },
   "file_extension": ".py",
   "mimetype": "text/x-python",
   "name": "python",
   "nbconvert_exporter": "python",
   "pygments_lexer": "ipython3",
   "version": "3.8.17"
  }
 },
 "nbformat": 4,
 "nbformat_minor": 5
}
