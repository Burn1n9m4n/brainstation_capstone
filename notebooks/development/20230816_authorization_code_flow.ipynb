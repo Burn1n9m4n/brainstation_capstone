{
 "cells": [
  {
   "cell_type": "code",
   "execution_count": 1,
   "id": "5d078e24-e910-4cf6-98b9-6346485648d6",
   "metadata": {},
   "outputs": [],
   "source": [
    "import spotipy\n",
    "from spotipy.oauth2 import SpotifyOAuth\n",
    "import os\n",
    "from dotenv import load_dotenv\n",
    "custom_env_path = '../../brainstation_capstone_cfg.env'"
   ]
  },
  {
   "cell_type": "code",
   "execution_count": 2,
   "id": "154812e6-f2be-4efe-9e18-43685245e15e",
   "metadata": {},
   "outputs": [
    {
     "name": "stdout",
     "output_type": "stream",
     "text": [
      "Playlist 'My AWESOME Playlist 2' was created\n"
     ]
    }
   ],
   "source": [
    "# Spotify Developer Credentials\n",
    "load_dotenv(dotenv_path = custom_env_path)\n",
    "CLIENT_ID = os.environ.get(\"SPOTIPY_CLIENT_ID\")\n",
    "CLIENT_SECRET =  os.environ.get(\"SPOTIPY_CLIENT_SECRET\")\n",
    "REDIRECT_URI = os.environ.get('REDIRECT_URI')\n",
    "SCOPE= \"{} {}\".format(os.environ.get('SCOPE_PUBLIC'),os.environ.get('SCOPE_PRIVATE'))\n",
    "USERNAME = os.environ.get('SPOTIFY_USERNAME')\n",
    "\n",
    "# Initialize SpotifyOAuth\n",
    "sp_oauth = SpotifyOAuth(\n",
    "    client_id=CLIENT_ID,\n",
    "    client_secret=CLIENT_SECRET,\n",
    "    redirect_uri=REDIRECT_URI,\n",
    "    scope=SCOPE,\n",
    "    cache_path=\".cache\",\n",
    "    show_dialog=False\n",
    ")\n",
    "\n",
    "def main():\n",
    "    # Get cached token or start authorization process\n",
    "    access_token_info = sp_oauth.get_cached_token()\n",
    "    if access_token_info:\n",
    "        access_token = access_token_info['access_token']\n",
    "    else:\n",
    "        print(\"Authorization required. Visit the following URL to authorize:\")\n",
    "        auth_url = sp_oauth.get_authorize_url()\n",
    "        print(auth_url)\n",
    "        return\n",
    "\n",
    "    # Initialize spotipy with access token\n",
    "    sp = spotipy.Spotify(auth=access_token)\n",
    "\n",
    "    # Replace 'Your Username' with your Spotify username\n",
    "    username = USERNAME\n",
    "    playlist_name = 'My AWESOME Playlist 2'\n",
    "    playlist_description = 'Demo for Paul'\n",
    "\n",
    "    try:\n",
    "        # Create a blank playlist\n",
    "        playlist = sp.user_playlist_create(\n",
    "            user=username,\n",
    "            name=playlist_name,\n",
    "            description = playlist_description,\n",
    "            public=False\n",
    "        )\n",
    "        print(f\"Playlist '{playlist_name}' was created\")\n",
    "    except spotipy.SpotifyException as e:\n",
    "        print(f\"An error occurred: {e}\")\n",
    "    \n",
    "if __name__ == '__main__':\n",
    "    main()\n"
   ]
  },
  {
   "cell_type": "code",
   "execution_count": null,
   "id": "4b762509-8b90-49b8-af93-6320768e7ebe",
   "metadata": {},
   "outputs": [],
   "source": []
  },
  {
   "cell_type": "code",
   "execution_count": null,
   "id": "a5f8ca2d-d86b-4837-affc-73cf06c51c42",
   "metadata": {},
   "outputs": [],
   "source": []
  },
  {
   "cell_type": "code",
   "execution_count": null,
   "id": "80fbabc4-9064-4811-99a3-5a984bb253e6",
   "metadata": {},
   "outputs": [],
   "source": []
  },
  {
   "cell_type": "code",
   "execution_count": null,
   "id": "85f3314f-294f-4f0a-b050-26bdf2ddbfc5",
   "metadata": {},
   "outputs": [],
   "source": []
  },
  {
   "cell_type": "code",
   "execution_count": null,
   "id": "8159948e-2edc-4d97-913a-832732907bb6",
   "metadata": {},
   "outputs": [],
   "source": []
  },
  {
   "cell_type": "code",
   "execution_count": null,
   "id": "e2450710-bb9f-46da-9bb8-49805ab2319e",
   "metadata": {},
   "outputs": [],
   "source": []
  },
  {
   "cell_type": "code",
   "execution_count": null,
   "id": "772846ef-3df9-4ede-993a-5b2bb6303246",
   "metadata": {},
   "outputs": [],
   "source": []
  },
  {
   "cell_type": "code",
   "execution_count": 5,
   "id": "7838ed88-c2b4-4a2a-b722-652d0b896e5a",
   "metadata": {},
   "outputs": [
    {
     "name": "stdout",
     "output_type": "stream",
     "text": [
      "Playlist 'My AWESOME Playlist 2: Electric Bugaloo' created by user 'burn1n9m4n'\n"
     ]
    }
   ],
   "source": [
    "# Spotify Developer Credentials\n",
    "CLIENT_ID = os.environ.get(\"SPOTIPY_CLIENT_ID\")\n",
    "CLIENT_SECRET =  os.environ.get(\"SPOTIPY_CLIENT_SECRET\")\n",
    "REDIRECT_URI = os.environ.get('REDIRECT_URI')\n",
    "SCOPE = os.environ.get('SCOPE')\n",
    "USERNAME = os.environ.get('SPOTIFY_USERNAME')\n",
    "# Initialize SpotifyOAuth\n",
    "sp_oauth = SpotifyOAuth(\n",
    "    client_id=CLIENT_ID,\n",
    "    client_secret=CLIENT_SECRET,\n",
    "    redirect_uri=REDIRECT_URI,\n",
    "    scope=SCOPE,\n",
    "    cache_path=\".cache\",\n",
    "    show_dialog=False\n",
    ")\n",
    "\n",
    "def main():\n",
    "    # Get cached token or start authorization process\n",
    "    access_token_info = sp_oauth.get_cached_token()\n",
    "    if access_token_info:\n",
    "        access_token = access_token_info['access_token']\n",
    "    else:\n",
    "        print(\"Authorization required. Visit the following URL to authorize:\")\n",
    "        auth_url = sp_oauth.get_authorize_url()\n",
    "        print(auth_url)\n",
    "        return\n",
    "\n",
    "    # Initialize spotipy with access token\n",
    "    sp = spotipy.Spotify(auth=access_token)\n",
    "\n",
    "    # Replace 'Your Username' with your Spotify username\n",
    "    username = USERNAME\n",
    "    playlist_name = 'My AWESOME Playlist 2: Electric Bugaloo'\n",
    "    playlist_description = 'This python thing is great isnt it?'\n",
    "\n",
    "    try:\n",
    "        # Create a blank playlist\n",
    "        playlist = sp.user_playlist_create(\n",
    "            user=username,\n",
    "            name=playlist_name,\n",
    "            description = playlist_description,\n",
    "            collaborative=False,\n",
    "            public=False\n",
    "        )\n",
    "        print(f\"Playlist '{playlist_name}' created by user '{username}'\")\n",
    "    except spotipy.SpotifyException as e:\n",
    "        print(f\"An error occurred: {e}\")\n",
    "    \n",
    "if __name__ == '__main__':\n",
    "    main()"
   ]
  },
  {
   "cell_type": "code",
   "execution_count": null,
   "id": "bfb9864f-fc6d-44f3-b05e-6bc8e49b3ad7",
   "metadata": {},
   "outputs": [],
   "source": []
  },
  {
   "cell_type": "code",
   "execution_count": null,
   "id": "4aa22e4a-f401-4491-b6f2-0e60c59ee162",
   "metadata": {},
   "outputs": [],
   "source": []
  },
  {
   "cell_type": "code",
   "execution_count": null,
   "id": "8dc748d7-50de-45e7-93e0-f85629e05aa3",
   "metadata": {},
   "outputs": [],
   "source": []
  },
  {
   "cell_type": "code",
   "execution_count": 4,
   "id": "9f1fa575-1586-4a65-8430-b2ae5e27a4b2",
   "metadata": {},
   "outputs": [],
   "source": [
    "# THIS CODE WORKS -- However, I don't want to use a self-contained Flask app as it interrupts my flow\n",
    "# app = Flask(__name__)\n",
    "\n",
    "# CLIENT_ID = os.environ[\"SPOTIPY_CLIENT_ID\"]\n",
    "# CLIENT_SECRET =  os.environ[\"SPOTIPY_CLIENT_SECRET\"]\n",
    "# REDIRECT_URI = 'http://127.0.0.1:5000/callback'\n",
    "# SCOPE = 'playlist-modify-public playlist-modify-private'\n",
    "\n",
    "# sp_oauth = SpotifyOAuth(\n",
    "#     client_id=CLIENT_ID,\n",
    "#     client_secret=CLIENT_SECRET,\n",
    "#     redirect_uri=REDIRECT_URI,\n",
    "#     scope=SCOPE,\n",
    "#     cache_path=\".cache\",\n",
    "# )\n",
    "\n",
    "# @app.route('/')\n",
    "# def index():\n",
    "#     return \"Hello, this is a Flask app!\"\n",
    "\n",
    "# @app.route('/login')\n",
    "# def login():\n",
    "#     auth_url = sp_oauth.get_authorize_url()\n",
    "#     return redirect(auth_url)\n",
    "\n",
    "# @app.route('/callback')\n",
    "# def callback():\n",
    "#     code = request.args['code']\n",
    "#     token_info = sp_oauth.get_access_token(code)\n",
    "#     access_token = token_info['access_token']\n",
    "\n",
    "#     sp = spotipy.Spotify(auth=access_token)\n",
    "\n",
    "#     username = sp.me()['id']\n",
    "#     playlist_name = 'My Blank Playlist'\n",
    "\n",
    "#     playlist = sp.user_playlist_create(\n",
    "#         user=username,\n",
    "#         name=playlist_name,\n",
    "#         public=False\n",
    "#     )\n",
    "\n",
    "#     return f\"Playlist '{playlist_name}' created by user '{username}'\"\n",
    "\n",
    "# if __name__ == '__main__':\n",
    "#     app.run(port=5000)"
   ]
  },
  {
   "cell_type": "code",
   "execution_count": null,
   "id": "07274b6b-d7bc-453f-a0ef-ce93617cf925",
   "metadata": {},
   "outputs": [],
   "source": []
  },
  {
   "cell_type": "code",
   "execution_count": null,
   "id": "439cca24-5f30-40e5-917a-ff69c9059f65",
   "metadata": {},
   "outputs": [],
   "source": []
  },
  {
   "cell_type": "code",
   "execution_count": null,
   "id": "400a0d9d-9760-4c74-867e-c850521b8341",
   "metadata": {},
   "outputs": [],
   "source": []
  },
  {
   "cell_type": "code",
   "execution_count": null,
   "id": "7f6a4f4b-7e2c-4470-aba9-10c138761cf0",
   "metadata": {},
   "outputs": [],
   "source": []
  }
 ],
 "metadata": {
  "kernelspec": {
   "display_name": "brainstation_capstone",
   "language": "python",
   "name": "brainstation_capstone"
  },
  "language_info": {
   "codemirror_mode": {
    "name": "ipython",
    "version": 3
   },
   "file_extension": ".py",
   "mimetype": "text/x-python",
   "name": "python",
   "nbconvert_exporter": "python",
   "pygments_lexer": "ipython3",
   "version": "3.8.17"
  }
 },
 "nbformat": 4,
 "nbformat_minor": 5
}
