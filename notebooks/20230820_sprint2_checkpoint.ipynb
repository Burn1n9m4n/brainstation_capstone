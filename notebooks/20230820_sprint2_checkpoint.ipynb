{
 "cells": [
  {
   "cell_type": "markdown",
   "id": "1a01a7b9-27ec-48b8-9841-d0277dc3c102",
   "metadata": {},
   "source": [
    "# Load Packages"
   ]
  },
  {
   "cell_type": "code",
   "execution_count": null,
   "id": "32f29054-c1f1-4712-9c2a-f1a614a17341",
   "metadata": {},
   "outputs": [],
   "source": [
    "import spotipy\n",
    "from spotipy.oauth2 import SpotifyOAuth\n",
    "import os\n",
    "import sys\n",
    "import pandas as pd\n",
    "import numpy as np\n",
    "import requests\n",
    "from spotify_dl import spotify_dl\n",
    "from pathlib import Path\n",
    "import time\n",
    "import os\n",
    "from dotenv import load_dotenv # changed magic command to explicit load\n",
    "\n",
    "pd.set_option(\"display.max_rows\", None) # pandas dataframe formatting options\n",
    "pd.set_option(\"display.max_columns\", None)\n",
    "pd.options.display.float_format = \"{:,.2f}\".format\n",
    "\n",
    "\n",
    "custom_env_path = '../../brainstation_capstone_cfg.env' # environment variables file"
   ]
  },
  {
   "cell_type": "markdown",
   "id": "3a040dd5-4811-47a9-9da3-c77b4f321975",
   "metadata": {},
   "source": [
    "In order to use the `spotify_dl` package to download the tracks that will comprise the dataset, a Spotify Web API app had to be created. From that app, the client ID and client secret were obtained and placed into the `brainstation_capstone_cfg.env` file. This file is then pulled into the present environment using the `python-dotenv` package via the magic command `%dotenv ../brainstation_capstone_cfg.env` above. The `spotify_dl` package also leverages another package known as `spotipy` and requires the `SPOTIPY_CLIENT_ID` and `SPOTIPY_CLIENT_SECRET` before it can begin downloading tracks. The credentials were stored within the external environment file which is not included within the repo for security reasons. In order to run this code, that information will be required. To obtain credentials please go to https://developer.spotify.com/documentation/web-api and follow the instructions under the 'Getting Started' section."
   ]
  },
  {
   "cell_type": "code",
   "execution_count": null,
   "id": "70ee6b3d-3f54-4ccb-8b1b-fcf19dfafea5",
   "metadata": {},
   "outputs": [],
   "source": [
    "# Spotify Developer Credentials\n",
    "load_dotenv(dotenv_path = custom_env_path)\n",
    "CLIENT_ID = os.environ.get(\"SPOTIPY_CLIENT_ID\") \n",
    "# client ID from app\n",
    "CLIENT_SECRET =  os.environ.get(\"SPOTIPY_CLIENT_SECRET\") \n",
    "# client secret from app\n",
    "REDIRECT_URI = os.environ.get('REDIRECT_URI') \n",
    "# redirect URI - the URI used here matches the one used within the app\n",
    "SCOPE= \"{} {}\".format(os.environ.get('SCOPE_PUBLIC'),os.environ.get('SCOPE_PRIVATE'))\n",
    "# formatted the scope this way to allow for custom configurations in the future\n",
    "USERNAME = os.environ.get('SPOTIFY_USERNAME')\n",
    "# Spotify username"
   ]
  },
  {
   "cell_type": "code",
   "execution_count": null,
   "id": "55cb4ba6-eff9-42e1-b157-b202687acf42",
   "metadata": {},
   "outputs": [],
   "source": []
  },
  {
   "cell_type": "code",
   "execution_count": null,
   "id": "1a5081a6-7bd4-47f2-adcf-0037ccece1d7",
   "metadata": {},
   "outputs": [],
   "source": []
  },
  {
   "cell_type": "markdown",
   "id": "87eaed20-c666-4ad4-a3bd-bd3a6a969160",
   "metadata": {},
   "source": [
    "# Exploratory Data Analysis (EDA)"
   ]
  },
  {
   "cell_type": "markdown",
   "id": "dff059c1-b71b-4b40-be9a-e0659adddf89",
   "metadata": {},
   "source": [
    "## Kaggle Dataset Exploration"
   ]
  },
  {
   "cell_type": "markdown",
   "id": "37e71010-96c9-4f05-8c74-a56139b4c334",
   "metadata": {},
   "source": [
    "The dataset from Kaggle is read in below. The data contains 232,725 rows which is comprised of 176,774 unique track_ids. A random sample of 30,000 rows is extracted below. From these 28,622 unique track_ids are present. The unique track_ids are stripped of trailing and leading spaces before being put into a list for looping. More investigation into the Kaggle dataset can be found in the notebook 20230719_kaggle_data_spotify_tracks.ipynb which is also found within this directory."
   ]
  },
  {
   "cell_type": "code",
   "execution_count": null,
   "id": "27926f5f-4461-4cab-8929-fc97f1d6ffff",
   "metadata": {},
   "outputs": [],
   "source": [
    "kaggle_df = pd.read_csv(\"../data/SpotifyFeatures.csv\")\n",
    "track_ids = kaggle_df.sample(30000, random_state = 123).track_id.str.strip().unique().tolist()\n",
    "len(track_ids)"
   ]
  },
  {
   "cell_type": "code",
   "execution_count": null,
   "id": "22cfac2c-2fb3-47b6-84cc-5c579b967731",
   "metadata": {},
   "outputs": [],
   "source": [
    "df.genre.value_counts(normalize=True) * 100  # relatively good balance between genres"
   ]
  },
  {
   "cell_type": "code",
   "execution_count": null,
   "id": "05294c16-fe0b-4bf9-945a-d374ece2f647",
   "metadata": {},
   "outputs": [],
   "source": [
    "df.duration_ms.value_counts(bins=20) # most songs are of a short duration, but there are some clear outliers that are much longer"
   ]
  },
  {
   "cell_type": "code",
   "execution_count": null,
   "id": "0e5b7324-29ee-4011-a664-b0b51c209e4a",
   "metadata": {},
   "outputs": [],
   "source": [
    "df.track_id.nunique() # there are fewer track ids than there are rows"
   ]
  },
  {
   "cell_type": "code",
   "execution_count": null,
   "id": "fe2e39df-2318-48ee-aa78-fdb749b92d29",
   "metadata": {},
   "outputs": [],
   "source": [
    "df.track_id.value_counts(ascending=False).head() # some of the track_ids appear more than once\n",
    "# This seemed odd considering that the track_id should be a unique identifier."
   ]
  },
  {
   "cell_type": "code",
   "execution_count": null,
   "id": "75b17e2b-0634-431b-8644-fe9f3871c385",
   "metadata": {},
   "outputs": [],
   "source": [
    "df.loc[df.track_id == \"3R73Y7X53MIQZWnKloWq5i\"]\n",
    "# This shows that a single track id does correspond to a single song, but that the song can repeat within the data set\n",
    "# based on the genre. All of the other columns are the same though."
   ]
  },
  {
   "cell_type": "code",
   "execution_count": null,
   "id": "2add6d6d-1439-4ea8-837e-b2ce5fb42d50",
   "metadata": {},
   "outputs": [],
   "source": [
    "df.loc[df.track_id == \"2qtoRFCOEL1gRn5q9DJC7F\"]"
   ]
  },
  {
   "cell_type": "markdown",
   "id": "72ed06c3-f3b7-4e68-b990-60a0cd475585",
   "metadata": {},
   "source": [
    "It seems that the track_id is a unique identifier, but there are tracks that are duplicated across genre. This could be a biproduct of how the data was originally obtained."
   ]
  },
  {
   "cell_type": "code",
   "execution_count": null,
   "id": "61421d5e-f0ff-4be3-8019-06b81b6ad1f0",
   "metadata": {},
   "outputs": [],
   "source": [
    "df.loc[df.popularity > 20].sort_values(by=\"popularity\", ascending=False).shape[\n",
    "    0\n",
    "] / df.shape[0] * 100\n",
    "# roughly 86% of the dataset is above a popularity score of 20\n",
    "# this means that ~14% is below 20"
   ]
  },
  {
   "cell_type": "code",
   "execution_count": null,
   "id": "aa0ad988-ddff-4f62-80cf-e46cd868c1a1",
   "metadata": {},
   "outputs": [],
   "source": []
  },
  {
   "cell_type": "code",
   "execution_count": null,
   "id": "ac4d2fab-d9ef-4e3f-b5b9-06088f259211",
   "metadata": {},
   "outputs": [],
   "source": []
  },
  {
   "cell_type": "code",
   "execution_count": null,
   "id": "7e100fe6-b5c7-495d-8add-8bb635f303f7",
   "metadata": {},
   "outputs": [],
   "source": [
    "# Initialize SpotifyOAuth\n",
    "sp_oauth = SpotifyOAuth(\n",
    "    client_id=CLIENT_ID,\n",
    "    client_secret=CLIENT_SECRET,\n",
    "    redirect_uri=REDIRECT_URI,\n",
    "    scope=SCOPE,\n",
    "    cache_path=\".cache\",\n",
    "    show_dialog=False\n",
    ")\n",
    "\n",
    "def main():\n",
    "    # Get cached token or start authorization process\n",
    "    access_token_info = sp_oauth.get_cached_token()\n",
    "    if access_token_info:\n",
    "        access_token = access_token_info['access_token']\n",
    "    else:\n",
    "        print(\"Authorization required. Visit the following URL to authorize:\")\n",
    "        auth_url = sp_oauth.get_authorize_url()\n",
    "        print(auth_url)\n",
    "        return\n",
    "\n",
    "    # Initialize spotipy with access token\n",
    "    sp = spotipy.Spotify(auth=access_token)\n",
    "\n",
    "    # Replace 'Your Username' with your Spotify username\n",
    "    username = USERNAME\n",
    "    playlist_name = 'My AWESOME Playlist 2'\n",
    "    playlist_description = 'Demo for Paul'\n",
    "\n",
    "    try:\n",
    "        # Create a blank playlist\n",
    "        playlist = sp.user_playlist_create(\n",
    "            user=username,\n",
    "            name=playlist_name,\n",
    "            description = playlist_description,\n",
    "            public=False\n",
    "        )\n",
    "        print(f\"Playlist '{playlist_name}' was created\")\n",
    "    except spotipy.SpotifyException as e:\n",
    "        print(f\"An error occurred: {e}\")\n",
    "    \n",
    "if __name__ == '__main__':\n",
    "    main()"
   ]
  },
  {
   "cell_type": "code",
   "execution_count": null,
   "id": "89d33b49-5620-4ed9-8377-a781ac5ea588",
   "metadata": {},
   "outputs": [],
   "source": []
  },
  {
   "cell_type": "code",
   "execution_count": null,
   "id": "809d062d-fb00-42ec-8ade-cffdd2e215cf",
   "metadata": {},
   "outputs": [],
   "source": []
  },
  {
   "cell_type": "code",
   "execution_count": null,
   "id": "799b98ef-21f1-4e99-8e31-47e67042aec3",
   "metadata": {},
   "outputs": [],
   "source": []
  },
  {
   "cell_type": "code",
   "execution_count": null,
   "id": "fc0488ae-9552-4302-9593-e60dbe6dc9f1",
   "metadata": {},
   "outputs": [],
   "source": []
  },
  {
   "cell_type": "code",
   "execution_count": null,
   "id": "b73aeb8c-bfe2-4769-a134-172247ffc402",
   "metadata": {},
   "outputs": [],
   "source": []
  },
  {
   "cell_type": "code",
   "execution_count": null,
   "id": "ca63c161-c1d4-4615-b755-eaa1b12ce594",
   "metadata": {},
   "outputs": [],
   "source": []
  },
  {
   "cell_type": "code",
   "execution_count": null,
   "id": "0036eb35-b6f0-4742-a4db-c42fdb3857b3",
   "metadata": {},
   "outputs": [],
   "source": []
  },
  {
   "cell_type": "code",
   "execution_count": null,
   "id": "12afce5d-5b3d-4b44-a40e-801eb493b7ed",
   "metadata": {},
   "outputs": [],
   "source": []
  }
 ],
 "metadata": {
  "kernelspec": {
   "display_name": "brainstation_capstone",
   "language": "python",
   "name": "brainstation_capstone"
  },
  "language_info": {
   "codemirror_mode": {
    "name": "ipython",
    "version": 3
   },
   "file_extension": ".py",
   "mimetype": "text/x-python",
   "name": "python",
   "nbconvert_exporter": "python",
   "pygments_lexer": "ipython3",
   "version": "3.8.17"
  }
 },
 "nbformat": 4,
 "nbformat_minor": 5
}
