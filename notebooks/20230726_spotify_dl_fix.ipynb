{
 "cells": [
  {
   "cell_type": "code",
   "execution_count": 1,
   "id": "d77a148b-2002-4aa0-ab23-689925e2b409",
   "metadata": {},
   "outputs": [],
   "source": [
    "# Magic Commands\n",
    "# %load_ext lab_black\n",
    "%load_ext dotenv\n",
    "%dotenv ../brainstation_capstone_cfg.env"
   ]
  },
  {
   "cell_type": "code",
   "execution_count": 2,
   "id": "062140ab-4dc9-425d-a529-f79f5c016d4a",
   "metadata": {},
   "outputs": [],
   "source": [
    "# Package Imports\n",
    "import os\n",
    "import sys\n",
    "# import pymysql\n",
    "import pandas as pd\n",
    "import numpy as np\n",
    "# import matplotlib.pyplot as plt\n",
    "# import seaborn as sns\n",
    "# from scipy import stats\n",
    "# import spotipy\n",
    "# from spotipy.oauth2 import SpotifyClientCredentials\n",
    "import requests\n",
    "from spotify_dl import spotify_dl\n",
    "from pathlib import Path\n",
    "import time\n",
    "# import glob\n",
    "\n",
    "pd.set_option(\"display.max_rows\", None)\n",
    "pd.set_option(\"display.max_columns\", None)\n",
    "pd.options.display.float_format = \"{:,.2f}\".format"
   ]
  },
  {
   "cell_type": "markdown",
   "id": "611b564e-0ffe-4048-878b-7b724af01c99",
   "metadata": {},
   "source": [
    "In order to use the `spotify_dl` package to download the tracks that will comprise the dataset, a Spotify Web API app had to be created. From that app, the client ID and client secret were obtained and placed into the `brainstation_capstone_cfg.env` file. This file is then pulled into the present environment using the `python-dotenv` package via the magic command `%dotenv ../brainstation_capstone_cfg.env` above. The `spotify_dl` package also leverages another package known as `spotipy` and requires the `SPOTIPY_CLIENT_ID` and `SPOTIPY_CLIENT_SECRET` before it can begin downloading tracks. The credentials were stored within the external environment file which is not included within the repo for security reasons. In order to run this code, that information will be required. To obtain credentials please go to https://developer.spotify.com/documentation/web-api and follow the instructions under the 'Getting Started' section."
   ]
  },
  {
   "cell_type": "code",
   "execution_count": 3,
   "id": "d2c13158-3859-43d3-811b-f41054e15de8",
   "metadata": {},
   "outputs": [],
   "source": [
    "CLIENT_ID = os.environ[\"SPOTIPY_CLIENT_ID\"]\n",
    "CLIENT_SECRET = os.environ[\"SPOTIPY_CLIENT_SECRET\"]"
   ]
  },
  {
   "cell_type": "markdown",
   "id": "f5f6b361-3725-471a-84f5-000abba0bf81",
   "metadata": {},
   "source": [
    "The dataset from Kaggle is read in below. The data contains 232,725 rows which is comprised of 176,774 unique track_ids. A random sample of 30,000 rows is extracted below. From these 28,622 unique track_ids are present. The unique track_ids are stripped of trailing and leading spaces before being put into a list for looping. More investigation into the Kaggle dataset can be found in the notebook `20230719_kaggle_data_spotify_tracks.ipynb` which is also found within this directory."
   ]
  },
  {
   "cell_type": "code",
   "execution_count": 4,
   "id": "37a22688-231a-48ea-96c4-93fd2660bd30",
   "metadata": {},
   "outputs": [
    {
     "data": {
      "text/plain": [
       "28622"
      ]
     },
     "execution_count": 4,
     "metadata": {},
     "output_type": "execute_result"
    }
   ],
   "source": [
    "kaggle_df = pd.read_csv(\"../data/SpotifyFeatures.csv\")\n",
    "track_ids = kaggle_df.sample(30000, random_state = 123).track_id.str.strip().unique().tolist()\n",
    "len(track_ids)"
   ]
  },
  {
   "cell_type": "markdown",
   "id": "f05b3a58-0869-404f-8002-401c458a65ac",
   "metadata": {},
   "source": [
    "The following two cells are test code that was used to check if the downloader could work with just a single song and if the output could be stored on a different drive. The first test succeeded, however, attempts to try and store the `.mp3` files onto a storage drive when run on a desktop computer did not work as `WSL` did not have write permissions for the drive in question. This may require further investigation later if more space is required."
   ]
  },
  {
   "cell_type": "code",
   "execution_count": 5,
   "id": "2cf45442-3717-4b23-bae1-86317ff72ef4",
   "metadata": {},
   "outputs": [],
   "source": [
    "# TEST CODE - This passed previously\n",
    "# file_path = '/Users/vii/repos/brainstation_capstone/data/mp3s/'\n",
    "# base_url = 'https://open.spotify.com/track/'\n",
    "# track_id = '0BRjO6ga9RKCKjfDqeFgWV'\n",
    "# url = base_url+track_id\n",
    "# os.system(\"spotify_dl -s y --url {} -o ../data/mp3s/{}\".format(url,track_id))"
   ]
  },
  {
   "cell_type": "code",
   "execution_count": 6,
   "id": "90ef38d6-6c85-46ee-b7f8-f72610f1400e",
   "metadata": {},
   "outputs": [],
   "source": [
    "# TEST CODE - Check to see if files could be written to larger storage space\n",
    "# This didn't work within WSL.\n",
    "# file_path = '/Users/vii/repos/brainstation_capstone/data/mp3s/'\n",
    "# base_url = 'https://open.spotify.com/track/'\n",
    "# track_id = '0BRjO6ga9RKCKjfDqeFgWV'\n",
    "# url = base_url+track_id\n",
    "# os.system(\"spotify_dl -s y --url {} -o /mnt/d/data/mp3s/{}\".format(url,track_id)) # replaced output directory with D drive\n"
   ]
  },
  {
   "cell_type": "markdown",
   "id": "025f2385-2c71-44ef-91bf-40fe814ff4b7",
   "metadata": {},
   "source": [
    "The cell below takes the track_ids that were extracted from the Kaggle data above and loops through them. It then concatenates these track_ids with the base_url to create a url that is fed into the `spotify_dl` package. This package then downloads the songs as `.webm` files which are then converted to `.mp3` files using `ffmpeg` (which was installed separately using the `conda install -c conda-forge ffmpeg` command). With `ffmpeg` installed, the `spotify_dl` package utilizes it automatically. The `.mp3` files are then saved to the `mp3s` folder within the `data` directory.\n",
    "\n",
    "This code also contains a `for` loop before the `while` block that uses the `os.walk` function to check the `mp3s` directory for track_ids that have already been downloaded. I included this code since the process of downloading the sample needed to train the model needed required multiple days worth of runtime. Effectively, this code provides some measure of resume functionality to prevent overwriting existing files or needless iteration over tracks that have already been downloaded."
   ]
  },
  {
   "cell_type": "code",
   "execution_count": 7,
   "id": "bab71832-9c5d-4b5a-b2d3-576f2f101f37",
   "metadata": {
    "scrolled": true
   },
   "outputs": [
    {
     "data": {
      "text/plain": [
       "2877"
      ]
     },
     "execution_count": 7,
     "metadata": {},
     "output_type": "execute_result"
    }
   ],
   "source": [
    "file_path = '/Users/vii/repos/brainstation_capstone/data/mp3s/'\n",
    "base_url = 'https://open.spotify.com/track/'\n",
    "track_dirs =[]\n",
    "dirs =[]\n",
    "for root, dir, files in os.walk(file_path):\n",
    "    dirs.append(dir)\n",
    "    if len(dirs)>0:\n",
    "        track_dirs = dirs[0].copy()\n",
    "len(track_dirs)"
   ]
  },
  {
   "cell_type": "code",
   "execution_count": 8,
   "id": "94a4fd24-1615-4985-a62f-ac737600eeb9",
   "metadata": {
    "scrolled": true
   },
   "outputs": [
    {
     "name": "stdout",
     "output_type": "stream",
     "text": [
      "Starting spotify_dl v8.\u001b[1;36m8.2\u001b[0m                                     \u001b]8;id=583283;file:///Users/vii/anaconda3/envs/brainstation_capstone/lib/python3.8/site-packages/spotify_dl/spotify_dl.py\u001b\\\u001b[2mspotify_dl.py\u001b[0m\u001b]8;;\u001b\\\u001b[2m:\u001b[0m\u001b]8;id=439502;file:///Users/vii/anaconda3/envs/brainstation_capstone/lib/python3.8/site-packages/spotify_dl/spotify_dl.py#143\u001b\\\u001b[2m143\u001b[0m\u001b]8;;\u001b\\\n",
      "Sponsorblock enabled?: y                                       \u001b]8;id=736166;file:///Users/vii/anaconda3/envs/brainstation_capstone/lib/python3.8/site-packages/spotify_dl/spotify_dl.py\u001b\\\u001b[2mspotify_dl.py\u001b[0m\u001b]8;;\u001b\\\u001b[2m:\u001b[0m\u001b]8;id=729644;file:///Users/vii/anaconda3/envs/brainstation_capstone/lib/python3.8/site-packages/spotify_dl/spotify_dl.py#185\u001b\\\u001b[2m185\u001b[0m\u001b]8;;\u001b\\\n",
      "Saving songs to Alone directory                                \u001b]8;id=682497;file:///Users/vii/anaconda3/envs/brainstation_capstone/lib/python3.8/site-packages/spotify_dl/spotify_dl.py\u001b\\\u001b[2mspotify_dl.py\u001b[0m\u001b]8;;\u001b\\\u001b[2m:\u001b[0m\u001b]8;id=906662;file:///Users/vii/anaconda3/envs/brainstation_capstone/lib/python3.8/site-packages/spotify_dl/spotify_dl.py#200\u001b\\\u001b[2m200\u001b[0m\u001b]8;;\u001b\\\n",
      "[generic] Extracting URL: Trampled by Turtles - Alone Lyrics\n",
      "Initiating download for Trampled by Turtles - Alone Lyrics.\n",
      "[youtube:search] Extracting URL: ytsearch:Trampled by Turtles - Alone Lyrics\n",
      "[download] Downloading playlist: Trampled by Turtles - Alone Lyrics\n",
      "[youtube:search] query \"Trampled by Turtles - Alone Lyrics\": Downloading web client config\n",
      "[youtube:search] query \"Trampled by Turtles - Alone Lyrics\" page 1: Downloading API JSON\n",
      "[youtube:search] Playlist Trampled by Turtles - Alone Lyrics: Downloading 1 items of 1\n",
      "[download] Downloading item 1 of 1\n",
      "[youtube] Extracting URL: https://www.youtube.com/watch?v=SistauVDiok\n",
      "[youtube] SistauVDiok: Downloading webpage\n",
      "[youtube] SistauVDiok: Downloading ios player API JSON\n",
      "[youtube] SistauVDiok: Downloading android player API JSON\n",
      "[youtube] SistauVDiok: Downloading m3u8 information\n",
      "[info] SistauVDiok: Downloading 1 format(s): 251\n",
      "[download] Destination: ../data/mp3s/5H06kjjKa1Oz8BZcGeplel/Alone/Trampled by Turtles - Alone.webm\n",
      "[download] 100% of    4.22MiB in 00:00:00 at 26.51MiB/s    \n",
      "[SponsorBlock] Fetching SponsorBlock segments\n",
      "[SponsorBlock] No matching segments were found in the SponsorBlock database\n",
      "[ModifyChapters] SponsorBlock information is unavailable\n",
      "[ExtractAudio] Destination: ../data/mp3s/5H06kjjKa1Oz8BZcGeplel/Alone/Trampled by Turtles - Alone.mp3\n",
      "Deleting original file ../data/mp3s/5H06kjjKa1Oz8BZcGeplel/Alone/Trampled by Turtles - Alone.webm (pass -k to keep)\n",
      "[download] Finished downloading playlist: Trampled by Turtles - Alone Lyrics\n",
      "Download completed in \u001b[1;36m6.05\u001b[0m seconds.                            \u001b]8;id=205930;file:///Users/vii/anaconda3/envs/brainstation_capstone/lib/python3.8/site-packages/spotify_dl/spotify_dl.py\u001b\\\u001b[2mspotify_dl.py\u001b[0m\u001b]8;;\u001b\\\u001b[2m:\u001b[0m\u001b]8;id=916205;file:///Users/vii/anaconda3/envs/brainstation_capstone/lib/python3.8/site-packages/spotify_dl/spotify_dl.py#223\u001b\\\u001b[2m223\u001b[0m\u001b]8;;\u001b\\\n",
      "Starting spotify_dl v8.\u001b[1;36m8.2\u001b[0m                                     \u001b]8;id=481154;file:///Users/vii/anaconda3/envs/brainstation_capstone/lib/python3.8/site-packages/spotify_dl/spotify_dl.py\u001b\\\u001b[2mspotify_dl.py\u001b[0m\u001b]8;;\u001b\\\u001b[2m:\u001b[0m\u001b]8;id=240038;file:///Users/vii/anaconda3/envs/brainstation_capstone/lib/python3.8/site-packages/spotify_dl/spotify_dl.py#143\u001b\\\u001b[2m143\u001b[0m\u001b]8;;\u001b\\\n",
      "Sponsorblock enabled?: y                                       \u001b]8;id=387601;file:///Users/vii/anaconda3/envs/brainstation_capstone/lib/python3.8/site-packages/spotify_dl/spotify_dl.py\u001b\\\u001b[2mspotify_dl.py\u001b[0m\u001b]8;;\u001b\\\u001b[2m:\u001b[0m\u001b]8;id=735626;file:///Users/vii/anaconda3/envs/brainstation_capstone/lib/python3.8/site-packages/spotify_dl/spotify_dl.py#185\u001b\\\u001b[2m185\u001b[0m\u001b]8;;\u001b\\\n",
      "Saving songs to Becalmed - \u001b[1;36m2004\u001b[0m Digital Remaster directory     \u001b]8;id=387698;file:///Users/vii/anaconda3/envs/brainstation_capstone/lib/python3.8/site-packages/spotify_dl/spotify_dl.py\u001b\\\u001b[2mspotify_dl.py\u001b[0m\u001b]8;;\u001b\\\u001b[2m:\u001b[0m\u001b]8;id=493403;file:///Users/vii/anaconda3/envs/brainstation_capstone/lib/python3.8/site-packages/spotify_dl/spotify_dl.py#200\u001b\\\u001b[2m200\u001b[0m\u001b]8;;\u001b\\\n",
      "[generic] Extracting URL: Brian Eno - Becalmed - 2004 Digital Remaster Lyrics\n",
      "Initiating download for Brian Eno - Becalmed - 2004 Digital Remaster Lyrics.\n",
      "[youtube:search] Extracting URL: ytsearch:Brian Eno - Becalmed - 2004 Digital Remaster Lyrics\n",
      "[download] Downloading playlist: Brian Eno - Becalmed - 2004 Digital Remaster Lyrics\n",
      "[youtube:search] query \"Brian Eno - Becalmed - 2004 Digital Remaster Lyrics\": Downloading web client config\n",
      "[youtube:search] query \"Brian Eno - Becalmed - 2004 Digital Remaster Lyrics\" page 1: Downloading API JSON\n",
      "[youtube:search] Playlist Brian Eno - Becalmed - 2004 Digital Remaster Lyrics: Downloading 1 items of 1\n",
      "[download] Downloading item 1 of 1\n",
      "[youtube] Extracting URL: https://www.youtube.com/watch?v=rfxtPQgoIqA\n",
      "[youtube] rfxtPQgoIqA: Downloading webpage\n",
      "[youtube] rfxtPQgoIqA: Downloading ios player API JSON\n",
      "[youtube] rfxtPQgoIqA: Downloading android player API JSON\n",
      "[youtube] rfxtPQgoIqA: Downloading m3u8 information\n",
      "[info] rfxtPQgoIqA: Downloading 1 format(s): 251\n",
      "[download] Destination: ../data/mp3s/3qq8XPwF2DoBhENRgLQ7ET/Becalmed - 2004 Digital Remaster/Brian Eno - Becalmed - 2004 Digital Remaster.webm\n",
      "[download] 100% of    3.77MiB in 00:00:00 at 15.27MiB/s  \n",
      "[SponsorBlock] Fetching SponsorBlock segments\n",
      "[SponsorBlock] No matching segments were found in the SponsorBlock database\n",
      "[ModifyChapters] SponsorBlock information is unavailable\n",
      "[ExtractAudio] Destination: ../data/mp3s/3qq8XPwF2DoBhENRgLQ7ET/Becalmed - 2004 Digital Remaster/Brian Eno - Becalmed - 2004 Digital Remaster.mp3\n",
      "Deleting original file ../data/mp3s/3qq8XPwF2DoBhENRgLQ7ET/Becalmed - 2004 Digital Remaster/Brian Eno - Becalmed - 2004 Digital Remaster.webm (pass -k to keep)\n",
      "[download] Finished downloading playlist: Brian Eno - Becalmed - 2004 Digital Remaster Lyrics\n",
      "Download completed in \u001b[1;36m6.34\u001b[0m seconds.                            \u001b]8;id=860825;file:///Users/vii/anaconda3/envs/brainstation_capstone/lib/python3.8/site-packages/spotify_dl/spotify_dl.py\u001b\\\u001b[2mspotify_dl.py\u001b[0m\u001b]8;;\u001b\\\u001b[2m:\u001b[0m\u001b]8;id=161439;file:///Users/vii/anaconda3/envs/brainstation_capstone/lib/python3.8/site-packages/spotify_dl/spotify_dl.py#223\u001b\\\u001b[2m223\u001b[0m\u001b]8;;\u001b\\\n"
     ]
    },
    {
     "ename": "KeyboardInterrupt",
     "evalue": "",
     "output_type": "error",
     "traceback": [
      "\u001b[0;31m---------------------------------------------------------------------------\u001b[0m",
      "\u001b[0;31mKeyboardInterrupt\u001b[0m                         Traceback (most recent call last)",
      "Cell \u001b[0;32mIn[8], line 13\u001b[0m\n\u001b[1;32m     11\u001b[0m os\u001b[38;5;241m.\u001b[39msystem(\u001b[38;5;124m\"\u001b[39m\u001b[38;5;124mspotify_dl --url \u001b[39m\u001b[38;5;132;01m{}\u001b[39;00m\u001b[38;5;124m -s y  -o ../data/mp3s/\u001b[39m\u001b[38;5;132;01m{}\u001b[39;00m\u001b[38;5;124m\"\u001b[39m\u001b[38;5;241m.\u001b[39mformat(url,track_id))\n\u001b[1;32m     12\u001b[0m count\u001b[38;5;241m+\u001b[39m\u001b[38;5;241m=\u001b[39m\u001b[38;5;241m1\u001b[39m\n\u001b[0;32m---> 13\u001b[0m \u001b[43mtime\u001b[49m\u001b[38;5;241;43m.\u001b[39;49m\u001b[43msleep\u001b[49m\u001b[43m(\u001b[49m\u001b[38;5;241;43m5\u001b[39;49m\u001b[43m)\u001b[49m\n",
      "\u001b[0;31mKeyboardInterrupt\u001b[0m: "
     ]
    }
   ],
   "source": [
    "os.system(\"export SPOTIPY_CLIENT_ID={}\".format(CLIENT_ID))\n",
    "os.system('export SPOTIPY_CLIENT_SECRET={}'.format(CLIENT_SECRET))\n",
    "count = 0\n",
    "while count<28622:\n",
    "    for track_id in track_ids:\n",
    "        if (len(track_dirs)>0) & (track_id in track_dirs):\n",
    "            print(f'{count}: {track_id} already downloaded...skipping....')\n",
    "            count +=1\n",
    "        else:\n",
    "            url = base_url+track_id    \n",
    "            os.system(\"spotify_dl --url {} -s y  -o ../data/mp3s/{}\".format(url,track_id))\n",
    "            count+=1\n",
    "            time.sleep(5) # 5 second delay between requests\n",
    "            "
   ]
  },
  {
   "cell_type": "code",
   "execution_count": null,
   "id": "729732b0-7beb-4384-88ab-7335791f28c5",
   "metadata": {},
   "outputs": [],
   "source": []
  }
 ],
 "metadata": {
  "kernelspec": {
   "display_name": "Python 3 (ipykernel)",
   "language": "python",
   "name": "python3"
  },
  "language_info": {
   "codemirror_mode": {
    "name": "ipython",
    "version": 3
   },
   "file_extension": ".py",
   "mimetype": "text/x-python",
   "name": "python",
   "nbconvert_exporter": "python",
   "pygments_lexer": "ipython3",
   "version": "3.8.17"
  }
 },
 "nbformat": 4,
 "nbformat_minor": 5
}
