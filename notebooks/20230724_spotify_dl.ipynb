{
 "cells": [
  {
   "cell_type": "code",
   "execution_count": 8,
   "id": "e597b4f9-7716-4f30-86e2-eacb129b75bc",
   "metadata": {},
   "outputs": [
    {
     "name": "stdout",
     "output_type": "stream",
     "text": [
      "The dotenv extension is already loaded. To reload it, use:\n",
      "  %reload_ext dotenv\n"
     ]
    }
   ],
   "source": [
    "# Magic Commands\n",
    "# %load_ext lab_black\n",
    "%load_ext dotenv\n",
    "%dotenv ../brainstation_capstone_cfg.env"
   ]
  },
  {
   "cell_type": "code",
   "execution_count": null,
   "id": "61cddd80-5282-49b2-a3b3-2d933d4cb73b",
   "metadata": {},
   "outputs": [],
   "source": [
    "# Synesthesia - a possible name"
   ]
  },
  {
   "cell_type": "code",
   "execution_count": 9,
   "id": "cf3f4192-060f-4a54-8088-2179c1b5fc7b",
   "metadata": {},
   "outputs": [],
   "source": [
    "# Package Imports\n",
    "import os\n",
    "import sys\n",
    "import pymysql\n",
    "import pandas as pd\n",
    "import numpy as np\n",
    "import matplotlib.pyplot as plt\n",
    "import seaborn as sns\n",
    "from scipy import stats\n",
    "import spotipy\n",
    "from spotipy.oauth2 import SpotifyClientCredentials\n",
    "import requests\n",
    "from spotify_dl import spotify_dl\n",
    "\n",
    "pd.set_option(\"display.max_rows\", None)\n",
    "pd.set_option(\"display.max_columns\", None)\n",
    "pd.options.display.float_format = \"{:,.2f}\".format\n",
    "%matplotlib inline"
   ]
  },
  {
   "cell_type": "code",
   "execution_count": 10,
   "id": "11064f4e-f665-4b3d-b869-ec3055eaf734",
   "metadata": {},
   "outputs": [],
   "source": [
    "# Load Environment Variables\n",
    "CLIENT_ID = os.environ[\"SPOTIPY_CLIENT_ID\"]\n",
    "CLIENT_SECRET = os.environ[\"SPOTIPY_CLIENT_SECRET\"]\n",
    "base_url = 'https://open.spotify.com/track/'\n",
    "track_id = '0BRjO6ga9RKCKjfDqeFgWV'\n",
    "# Example from CLI\n",
    "# spotify_dl -l \"https://open.spotify.com/track/28Ct4qwkQXY2W5yyNCLuVI\" -o ."
   ]
  },
  {
   "cell_type": "code",
   "execution_count": 15,
   "id": "9b41158c-3519-4d0e-9015-932fa37bcb09",
   "metadata": {},
   "outputs": [
    {
     "name": "stdout",
     "output_type": "stream",
     "text": [
      "Starting spotify_dl v8.\u001b[1;36m8.2\u001b[0m                                     \u001b]8;id=995060;file:///Users/vii/anaconda3/envs/brainstation_capstone/lib/python3.8/site-packages/spotify_dl/spotify_dl.py\u001b\\\u001b[2mspotify_dl.py\u001b[0m\u001b]8;;\u001b\\\u001b[2m:\u001b[0m\u001b]8;id=678363;file:///Users/vii/anaconda3/envs/brainstation_capstone/lib/python3.8/site-packages/spotify_dl/spotify_dl.py#143\u001b\\\u001b[2m143\u001b[0m\u001b]8;;\u001b\\\n",
      "Sponsorblock enabled?: no                                      \u001b]8;id=775474;file:///Users/vii/anaconda3/envs/brainstation_capstone/lib/python3.8/site-packages/spotify_dl/spotify_dl.py\u001b\\\u001b[2mspotify_dl.py\u001b[0m\u001b]8;;\u001b\\\u001b[2m:\u001b[0m\u001b]8;id=998404;file:///Users/vii/anaconda3/envs/brainstation_capstone/lib/python3.8/site-packages/spotify_dl/spotify_dl.py#185\u001b\\\u001b[2m185\u001b[0m\u001b]8;;\u001b\\\n",
      "Saving songs to Coleccionista de Canciones directory           \u001b]8;id=71142;file:///Users/vii/anaconda3/envs/brainstation_capstone/lib/python3.8/site-packages/spotify_dl/spotify_dl.py\u001b\\\u001b[2mspotify_dl.py\u001b[0m\u001b]8;;\u001b\\\u001b[2m:\u001b[0m\u001b]8;id=173960;file:///Users/vii/anaconda3/envs/brainstation_capstone/lib/python3.8/site-packages/spotify_dl/spotify_dl.py#200\u001b\\\u001b[2m200\u001b[0m\u001b]8;;\u001b\\\n",
      "[generic] Extracting URL: Camila - Coleccionista de Canciones Lyrics\n",
      "Initiating download for Camila - Coleccionista de Canciones Lyrics.\n",
      "[youtube:search] Extracting URL: ytsearch:Camila - Coleccionista de Canciones Lyrics\n",
      "[download] Downloading playlist: Camila - Coleccionista de Canciones Lyrics\n",
      "[youtube:search] query \"Camila - Coleccionista de Canciones Lyrics\": Downloading web client config\n",
      "[youtube:search] query \"Camila - Coleccionista de Canciones Lyrics\" page 1: Downloading API JSON\n",
      "[youtube:search] Playlist Camila - Coleccionista de Canciones Lyrics: Downloading 1 items of 1\n",
      "[download] Downloading item 1 of 1\n",
      "[youtube] Extracting URL: https://www.youtube.com/watch?v=c5tH0YTxFnc\n",
      "[youtube] c5tH0YTxFnc: Downloading webpage\n",
      "[youtube] c5tH0YTxFnc: Downloading ios player API JSON\n",
      "[youtube] c5tH0YTxFnc: Downloading android player API JSON\n",
      "[youtube] c5tH0YTxFnc: Downloading m3u8 information\n",
      "[info] c5tH0YTxFnc: Downloading 1 format(s): 251\n",
      "[download] Destination: ../Coleccionista de Canciones/Camila - Coleccionista de Canciones.webm\n",
      "[download] 100% of    4.91MiB in 00:00:00 at 34.13MiB/s    \n",
      "[ExtractAudio] Destination: ../Coleccionista de Canciones/Camila - Coleccionista de Canciones.mp3\n",
      "Deleting original file ../Coleccionista de Canciones/Camila - Coleccionista de Canciones.webm (pass -k to keep)\n",
      "[download] Finished downloading playlist: Camila - Coleccionista de Canciones Lyrics\n",
      "Download completed in \u001b[1;36m6.97\u001b[0m seconds.                            \u001b]8;id=115177;file:///Users/vii/anaconda3/envs/brainstation_capstone/lib/python3.8/site-packages/spotify_dl/spotify_dl.py\u001b\\\u001b[2mspotify_dl.py\u001b[0m\u001b]8;;\u001b\\\u001b[2m:\u001b[0m\u001b]8;id=1190;file:///Users/vii/anaconda3/envs/brainstation_capstone/lib/python3.8/site-packages/spotify_dl/spotify_dl.py#223\u001b\\\u001b[2m223\u001b[0m\u001b]8;;\u001b\\\n"
     ]
    },
    {
     "data": {
      "text/plain": [
       "0"
      ]
     },
     "execution_count": 15,
     "metadata": {},
     "output_type": "execute_result"
    }
   ],
   "source": [
    "exec_path = '/Users/vii/anaconda3/envs/brainstation_capstone/bin/spotify_dl'\n",
    "url = \"https://open.spotify.com/track/28Ct4qwkQXY2W5yyNCLuVI\"\n",
    "os.system(\"{} -l {} -o .\".format(exec_path,url))"
   ]
  },
  {
   "cell_type": "code",
   "execution_count": null,
   "id": "dfc1c93c-ac0b-4bc2-a98b-7fea4095d220",
   "metadata": {},
   "outputs": [],
   "source": []
  },
  {
   "cell_type": "code",
   "execution_count": null,
   "id": "afc8f301-1ed4-420d-ac01-be916c629a0a",
   "metadata": {},
   "outputs": [],
   "source": []
  },
  {
   "cell_type": "code",
   "execution_count": 6,
   "id": "8bafd7bd-7bf5-4c09-aef8-4bbbae5b377d",
   "metadata": {},
   "outputs": [
    {
     "data": {
      "text/plain": [
       "\u001b[0;31mType:\u001b[0m        module\n",
       "\u001b[0;31mString form:\u001b[0m <module 'spotify_dl.spotify_dl' from '/Users/vii/anaconda3/envs/brainstation_capstone/lib/python3.8/site-packages/spotify_dl/spotify_dl.py'>\n",
       "\u001b[0;31mFile:\u001b[0m        ~/anaconda3/envs/brainstation_capstone/lib/python3.8/site-packages/spotify_dl/spotify_dl.py\n",
       "\u001b[0;31mDocstring:\u001b[0m   <no docstring>"
      ]
     },
     "metadata": {},
     "output_type": "display_data"
    }
   ],
   "source": [
    "spotify_dl?"
   ]
  },
  {
   "cell_type": "code",
   "execution_count": null,
   "id": "879e5136-f2d6-45fc-8edf-ec7ab63581e5",
   "metadata": {},
   "outputs": [],
   "source": [
    "0BRjO6ga9RKCKjfDqeFgWV"
   ]
  },
  {
   "cell_type": "code",
   "execution_count": null,
   "id": "13c9fd0f-e563-4c3d-a196-169f89adadf7",
   "metadata": {},
   "outputs": [],
   "source": [
    "!$ ./spotify-dl --track {track_id} --dl youtube --access_token <your_access_token>"
   ]
  },
  {
   "cell_type": "code",
   "execution_count": null,
   "id": "dd071934-9ec2-48b0-be27-a389bae4e2ad",
   "metadata": {},
   "outputs": [],
   "source": []
  },
  {
   "cell_type": "code",
   "execution_count": 5,
   "id": "33b50fcf-eb0b-4d1b-85c1-92eace4a54a2",
   "metadata": {},
   "outputs": [],
   "source": [
    "AUTH_URL = \"https://accounts.spotify.com/api/token\"\n",
    "\n",
    "# POST\n",
    "auth_response = requests.post(\n",
    "    AUTH_URL,\n",
    "    {\n",
    "        \"grant_type\": \"client_credentials\",\n",
    "        \"client_id\": CLIENT_ID,\n",
    "        \"client_secret\": CLIENT_SECRET,\n",
    "    },\n",
    ")\n",
    "\n",
    "# convert the response to JSON\n",
    "auth_response_data = auth_response.json()\n",
    "\n",
    "# save the access token\n",
    "access_token = auth_response_data[\"access_token\"]"
   ]
  },
  {
   "cell_type": "code",
   "execution_count": 6,
   "id": "ab258d53-730e-4f26-8023-fc445991f509",
   "metadata": {},
   "outputs": [],
   "source": [
    "headers = {\"Authorization\": \"Bearer {token}\".format(token=access_token)}"
   ]
  },
  {
   "cell_type": "code",
   "execution_count": 7,
   "id": "efb26c2a-6f6f-458d-b4f9-21d6fad7697a",
   "metadata": {},
   "outputs": [],
   "source": [
    "# base URL of all Spotify API endpoints\n",
    "BASE_URL = \"https://api.spotify.com/v1/\"\n",
    "\n",
    "# Track ID from the URI\n",
    "track_id = \"6y0igZArWVi6Iz0rj35c1Y\"\n",
    "\n",
    "# actual GET request with proper header\n",
    "r = requests.get(BASE_URL + \"audio-features/\" + track_id, headers=headers)"
   ]
  },
  {
   "cell_type": "code",
   "execution_count": 8,
   "id": "e347e6ec-a886-41bf-89d2-efa2d65a1403",
   "metadata": {},
   "outputs": [
    {
     "data": {
      "text/plain": [
       "{'danceability': 0.54,\n",
       " 'energy': 0.59,\n",
       " 'key': 0,\n",
       " 'loudness': -4.359,\n",
       " 'mode': 1,\n",
       " 'speechiness': 0.0528,\n",
       " 'acousticness': 0.446,\n",
       " 'instrumentalness': 0,\n",
       " 'liveness': 0.14,\n",
       " 'valence': 0.267,\n",
       " 'tempo': 119.878,\n",
       " 'type': 'audio_features',\n",
       " 'id': '6y0igZArWVi6Iz0rj35c1Y',\n",
       " 'uri': 'spotify:track:6y0igZArWVi6Iz0rj35c1Y',\n",
       " 'track_href': 'https://api.spotify.com/v1/tracks/6y0igZArWVi6Iz0rj35c1Y',\n",
       " 'analysis_url': 'https://api.spotify.com/v1/audio-analysis/6y0igZArWVi6Iz0rj35c1Y',\n",
       " 'duration_ms': 234910,\n",
       " 'time_signature': 4}"
      ]
     },
     "execution_count": 8,
     "metadata": {},
     "output_type": "execute_result"
    }
   ],
   "source": [
    "r = r.json()\n",
    "r"
   ]
  },
  {
   "cell_type": "code",
   "execution_count": 10,
   "id": "b75546db-44e4-4e33-8b98-e8a1949ce848",
   "metadata": {},
   "outputs": [
    {
     "data": {
      "text/plain": [
       "'https://api.spotify.com/v1/tracks/6y0igZArWVi6Iz0rj35c1Y'"
      ]
     },
     "execution_count": 10,
     "metadata": {},
     "output_type": "execute_result"
    }
   ],
   "source": [
    "r[\"track_href\"]"
   ]
  },
  {
   "cell_type": "code",
   "execution_count": null,
   "id": "98406158-662b-4e31-b31e-dd6ba6b7ce57",
   "metadata": {},
   "outputs": [],
   "source": [
    "0BRjO6ga9RKCKjfDqeFgWV"
   ]
  },
  {
   "cell_type": "code",
   "execution_count": null,
   "id": "cdcbc458-8f9a-4edd-9ea7-5339d5a96913",
   "metadata": {},
   "outputs": [],
   "source": []
  },
  {
   "cell_type": "code",
   "execution_count": null,
   "id": "d23caf26-738b-461b-b306-29cc7fd2ad40",
   "metadata": {},
   "outputs": [],
   "source": []
  },
  {
   "cell_type": "code",
   "execution_count": null,
   "id": "f1b66fc3-e6e0-4f21-ad65-4dc02a3fe04a",
   "metadata": {},
   "outputs": [],
   "source": []
  },
  {
   "cell_type": "code",
   "execution_count": null,
   "id": "2e9f8dc9-768a-4845-b2d7-ef5573cab1c7",
   "metadata": {},
   "outputs": [],
   "source": []
  },
  {
   "cell_type": "code",
   "execution_count": null,
   "id": "1306464d-ea4a-4d9d-8661-51b3d9c7b650",
   "metadata": {},
   "outputs": [],
   "source": []
  },
  {
   "cell_type": "code",
   "execution_count": null,
   "id": "77110046-0d0c-43f1-ab3e-fd1fd535d201",
   "metadata": {},
   "outputs": [],
   "source": []
  },
  {
   "cell_type": "code",
   "execution_count": null,
   "id": "50b2ab89-e980-43ec-80b4-4d9f7c1618c8",
   "metadata": {},
   "outputs": [],
   "source": []
  },
  {
   "cell_type": "code",
   "execution_count": null,
   "id": "b761ef6e-dbc1-45cd-9998-154be8fd7563",
   "metadata": {},
   "outputs": [],
   "source": []
  },
  {
   "cell_type": "code",
   "execution_count": null,
   "id": "1386a75c-f536-4ee6-9e9b-be15c1262f35",
   "metadata": {},
   "outputs": [],
   "source": []
  }
 ],
 "metadata": {
  "kernelspec": {
   "display_name": "brainstation_capstone",
   "language": "python",
   "name": "brainstation_capstone"
  },
  "language_info": {
   "codemirror_mode": {
    "name": "ipython",
    "version": 3
   },
   "file_extension": ".py",
   "mimetype": "text/x-python",
   "name": "python",
   "nbconvert_exporter": "python",
   "pygments_lexer": "ipython3",
   "version": "3.8.17"
  }
 },
 "nbformat": 4,
 "nbformat_minor": 5
}
