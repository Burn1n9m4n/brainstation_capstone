{
 "cells": [
  {
   "cell_type": "code",
   "execution_count": null,
   "id": "e597b4f9-7716-4f30-86e2-eacb129b75bc",
   "metadata": {},
   "outputs": [],
   "source": [
    "# Magic Commands\n",
    "# %load_ext lab_black\n",
    "%load_ext dotenv\n",
    "%dotenv ../brainstation_capstone_cfg.env"
   ]
  },
  {
   "cell_type": "code",
   "execution_count": null,
   "id": "6260bb8c-3451-479b-8e9d-84497e571159",
   "metadata": {},
   "outputs": [],
   "source": [
    "pwd"
   ]
  },
  {
   "cell_type": "code",
   "execution_count": null,
   "id": "61cddd80-5282-49b2-a3b3-2d933d4cb73b",
   "metadata": {},
   "outputs": [],
   "source": [
    "# Synesthesia - a possible name"
   ]
  },
  {
   "cell_type": "code",
   "execution_count": null,
   "id": "cf3f4192-060f-4a54-8088-2179c1b5fc7b",
   "metadata": {},
   "outputs": [],
   "source": [
    "# Package Imports\n",
    "import os\n",
    "import sys\n",
    "# import pymysql\n",
    "import pandas as pd\n",
    "import numpy as np\n",
    "# import matplotlib.pyplot as plt\n",
    "# import seaborn as sns\n",
    "# from scipy import stats\n",
    "# import spotipy\n",
    "# from spotipy.oauth2 import SpotifyClientCredentials\n",
    "import requests\n",
    "from spotify_dl import spotify_dl\n",
    "from pathlib import Path\n",
    "# import glob\n",
    "\n",
    "pd.set_option(\"display.max_rows\", None)\n",
    "pd.set_option(\"display.max_columns\", None)\n",
    "pd.options.display.float_format = \"{:,.2f}\".format\n",
    "%matplotlib inline"
   ]
  },
  {
   "cell_type": "code",
   "execution_count": null,
   "id": "c79c563c-e5c9-44a6-8c20-9e84036169ab",
   "metadata": {},
   "outputs": [],
   "source": [
    "# cwd = Path.cwd()\n",
    "# path = Path(cwd, 'data','mp3s/')\n",
    "# for file in path:\n",
    "#     print(file)"
   ]
  },
  {
   "cell_type": "code",
   "execution_count": null,
   "id": "11064f4e-f665-4b3d-b869-ec3055eaf734",
   "metadata": {},
   "outputs": [],
   "source": [
    "# Load Environment Variables\n",
    "CLIENT_ID = os.environ[\"SPOTIPY_CLIENT_ID\"]\n",
    "CLIENT_SECRET = os.environ[\"SPOTIPY_CLIENT_SECRET\"]\n",
    "base_url = 'https://open.spotify.com/track/'\n",
    "# track_id = '0BRjO6ga9RKCKjfDqeFgWV'\n",
    "# Example from CLI\n",
    "# spotify_dl -l \"https://open.spotify.com/track/28Ct4qwkQXY2W5yyNCLuVI\" -o ."
   ]
  },
  {
   "cell_type": "code",
   "execution_count": null,
   "id": "11612a9c-55b4-416e-9cd7-8435cb714272",
   "metadata": {
    "scrolled": true
   },
   "outputs": [],
   "source": [
    "directory = '/Users/vii/repos/brainstation_capstone/data/mp3s/'\n",
    "dirs = []\n",
    "for root, dir, files in os.walk(directory):\n",
    "    # print(dir)\n",
    "    dirs.append(dir)\n",
    "dirs\n",
    "    "
   ]
  },
  {
   "cell_type": "code",
   "execution_count": null,
   "id": "f8f0294c-94f3-44ad-a033-e52aa49cef14",
   "metadata": {},
   "outputs": [],
   "source": [
    "# Read in Kaggle Dataset\n",
    "kaggle_df = pd.read_csv(\"../data/SpotifyFeatures.csv\")\n",
    "track_ids = kaggle_df.sample(25000, random_state = 123).track_id.str.strip().unique().tolist()\n",
    "len(track_ids)"
   ]
  },
  {
   "cell_type": "code",
   "execution_count": null,
   "id": "b615b06a-28dd-4426-9bae-6bbd92f43545",
   "metadata": {},
   "outputs": [],
   "source": [
    "# sub_track_ids = track_ids[:5]"
   ]
  },
  {
   "cell_type": "code",
   "execution_count": null,
   "id": "e030c2a2-8bd9-4ae2-901d-104775522822",
   "metadata": {
    "scrolled": true
   },
   "outputs": [],
   "source": [
    "# sub_track_ids"
   ]
  },
  {
   "cell_type": "code",
   "execution_count": null,
   "id": "3c7bda84-21a7-46c3-b9d0-95cdc2476b09",
   "metadata": {},
   "outputs": [],
   "source": [
    "# directory = '/Users/vii/repos/brainstation_capstone/data/mp3s/'\n",
    "# root, dirs, files = os.walk(directory)\n",
    "\n",
    "# for root, dirs, files in os.walk(directory, topdown=False):\n",
    "#     print('\\n\\nROOT')\n",
    "#     print(dirs)\n",
    "#     print('\\n\\n')\n",
    "#     for name in files:\n",
    "#         print(os.path.join(root, name))\n",
    "#     for name in dirs:\n",
    "#         print(os.path.join(root, name))\n",
    "# for root, dirs, files in os.walk(directory):\n",
    "#     for file in files:\n",
    "#         if file.endswith('.mp3'):\n",
    "#             print(os.path.join(root, file))"
   ]
  },
  {
   "cell_type": "code",
   "execution_count": null,
   "id": "a8b09854-0381-422c-b8c9-52a3a346ecec",
   "metadata": {
    "scrolled": true
   },
   "outputs": [],
   "source": [
    "exec_path = '/Users/vii/anaconda3/envs/brainstation_capstone/bin/spotify_dl'\n",
    "file_path = '/Users/vii/repos/brainstation_capstone/data/mp3s/'\n",
    "# /Users/vii/anaconda3/envs/brainstation_capstone/bin/spotify_dl -l /Users/vii/repos/brainstation_capstone/data/mp3s/ -v -s y -o ../data/mp3s/{}\n",
    "dirs = []\n",
    "for root, dir, files in os.walk(file_path):\n",
    "    print(files)"
   ]
  },
  {
   "cell_type": "code",
   "execution_count": null,
   "id": "3be571b7",
   "metadata": {},
   "outputs": [],
   "source": [
    "base_url = 'https://open.spotify.com/track/'\n",
    "track_id = '0BRjO6ga9RKCKjfDqeFgWV'\n",
    "url = base_url+track_id"
   ]
  },
  {
   "cell_type": "code",
   "execution_count": null,
   "id": "afc8f301-1ed4-420d-ac01-be916c629a0a",
   "metadata": {},
   "outputs": [],
   "source": [
    "os.system(\"export SPOTIPY_CLIENT_ID={}\".format(CLIENT_ID))\n",
    "os.system('export SPOTIPY_CLIENT_SECRET={}'.format(CLIENT_SECRET))\n",
    "os.system(\"{} -l {} -v -o ../data/mp3s/{}\".format(exec_path, url,track_id))"
   ]
  },
  {
   "cell_type": "code",
   "execution_count": null,
   "id": "77b2face-8978-4627-b320-5a8056963fcb",
   "metadata": {
    "scrolled": true
   },
   "outputs": [],
   "source": [
    "count = 0\n",
    "for track_id in track_ids:\n",
    "    if (len(dirs)>0):\n",
    "        if (track_id in dirs[0]):\n",
    "            count +=1\n",
    "            pass\n",
    "    else:\n",
    "        count+=1\n",
    "        url = base_url+track_id\n",
    "        os.system(\"export SPOTIPY_CLIENT_ID={}\".format(CLIENT_ID))\n",
    "        os.system('export SPOTIPY_CLIENT_SECRET{}'.format(CLIENT_SECRET))\n",
    "        os.system(\"{} -l {} -v -s y -o ../data/mp3s/{}\".format(exec_path, url,track_id))\n",
    "    # for root, dirs, files in os.walk(directory):\n",
    "    #     for file in files:\n",
    "    #         if file.endswith('.mp3'):\n",
    "    #             # print(root,dirs,files)\n",
    "    #             # print(f\"mv '{root}/{file}' '{root}/{track_id}'\")\n",
    "    #             path = root+file\n",
    "    #             os.system('mv \"{}\" \"{}/{}.mp3\"'.format(path, root,track_id))\n",
    "    #             os.system('mv \"{}/{}.mp3\" ../data/mp3s/'.format(root, track_id))\n",
    "    #             # os.system('find ../data/mp3s/ -empty -type d -delete')"
   ]
  },
  {
   "cell_type": "code",
   "execution_count": null,
   "id": "cdcbc458-8f9a-4edd-9ea7-5339d5a96913",
   "metadata": {},
   "outputs": [],
   "source": []
  },
  {
   "cell_type": "code",
   "execution_count": null,
   "id": "d23caf26-738b-461b-b306-29cc7fd2ad40",
   "metadata": {},
   "outputs": [],
   "source": []
  },
  {
   "cell_type": "code",
   "execution_count": null,
   "id": "f1b66fc3-e6e0-4f21-ad65-4dc02a3fe04a",
   "metadata": {},
   "outputs": [],
   "source": []
  },
  {
   "cell_type": "code",
   "execution_count": null,
   "id": "2e9f8dc9-768a-4845-b2d7-ef5573cab1c7",
   "metadata": {},
   "outputs": [],
   "source": []
  },
  {
   "cell_type": "code",
   "execution_count": null,
   "id": "1306464d-ea4a-4d9d-8661-51b3d9c7b650",
   "metadata": {},
   "outputs": [],
   "source": []
  },
  {
   "cell_type": "code",
   "execution_count": null,
   "id": "77110046-0d0c-43f1-ab3e-fd1fd535d201",
   "metadata": {},
   "outputs": [],
   "source": []
  },
  {
   "cell_type": "code",
   "execution_count": null,
   "id": "50b2ab89-e980-43ec-80b4-4d9f7c1618c8",
   "metadata": {},
   "outputs": [],
   "source": []
  },
  {
   "cell_type": "code",
   "execution_count": null,
   "id": "b761ef6e-dbc1-45cd-9998-154be8fd7563",
   "metadata": {},
   "outputs": [],
   "source": []
  },
  {
   "cell_type": "code",
   "execution_count": null,
   "id": "1386a75c-f536-4ee6-9e9b-be15c1262f35",
   "metadata": {},
   "outputs": [],
   "source": []
  }
 ],
 "metadata": {
  "kernelspec": {
   "display_name": "brainstation_capstone",
   "language": "python",
   "name": "brainstation_capstone"
  },
  "language_info": {
   "codemirror_mode": {
    "name": "ipython",
    "version": 3
   },
   "file_extension": ".py",
   "mimetype": "text/x-python",
   "name": "python",
   "nbconvert_exporter": "python",
   "pygments_lexer": "ipython3",
   "version": "3.8.17"
  }
 },
 "nbformat": 4,
 "nbformat_minor": 5
}
