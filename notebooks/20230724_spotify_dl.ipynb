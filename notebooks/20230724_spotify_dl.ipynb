{
 "cells": [
  {
   "cell_type": "code",
   "execution_count": 10,
   "id": "e597b4f9-7716-4f30-86e2-eacb129b75bc",
   "metadata": {},
   "outputs": [
    {
     "name": "stdout",
     "output_type": "stream",
     "text": [
      "The dotenv extension is already loaded. To reload it, use:\n",
      "  %reload_ext dotenv\n"
     ]
    }
   ],
   "source": [
    "# Magic Commands\n",
    "# %load_ext lab_black\n",
    "%load_ext dotenv\n",
    "%dotenv ../brainstation_capstone_cfg.env"
   ]
  },
  {
   "cell_type": "code",
   "execution_count": 11,
   "id": "6260bb8c-3451-479b-8e9d-84497e571159",
   "metadata": {},
   "outputs": [
    {
     "data": {
      "text/plain": [
       "'/home/kaulv/repos/brainstation_capstone/notebooks'"
      ]
     },
     "execution_count": 11,
     "metadata": {},
     "output_type": "execute_result"
    }
   ],
   "source": [
    "pwd"
   ]
  },
  {
   "cell_type": "code",
   "execution_count": 12,
   "id": "61cddd80-5282-49b2-a3b3-2d933d4cb73b",
   "metadata": {},
   "outputs": [],
   "source": [
    "# Synesthesia - a possible name"
   ]
  },
  {
   "cell_type": "code",
   "execution_count": 13,
   "id": "cf3f4192-060f-4a54-8088-2179c1b5fc7b",
   "metadata": {},
   "outputs": [],
   "source": [
    "# Package Imports\n",
    "import os\n",
    "import sys\n",
    "# import pymysql\n",
    "import pandas as pd\n",
    "import numpy as np\n",
    "# import matplotlib.pyplot as plt\n",
    "# import seaborn as sns\n",
    "# from scipy import stats\n",
    "# import spotipy\n",
    "# from spotipy.oauth2 import SpotifyClientCredentials\n",
    "import requests\n",
    "from spotify_dl import spotify_dl\n",
    "from pathlib import Path\n",
    "import time\n",
    "# import glob\n",
    "\n",
    "pd.set_option(\"display.max_rows\", None)\n",
    "pd.set_option(\"display.max_columns\", None)\n",
    "pd.options.display.float_format = \"{:,.2f}\".format\n",
    "# %matplotlib inline"
   ]
  },
  {
   "cell_type": "code",
   "execution_count": 14,
   "id": "11064f4e-f665-4b3d-b869-ec3055eaf734",
   "metadata": {},
   "outputs": [],
   "source": [
    "# Load Environment Variables\n",
    "CLIENT_ID = os.environ[\"SPOTIPY_CLIENT_ID\"]\n",
    "CLIENT_SECRET = os.environ[\"SPOTIPY_CLIENT_SECRET\"]\n",
    "base_url = 'https://open.spotify.com/track/'\n",
    "# track_id = '0BRjO6ga9RKCKjfDqeFgWV'\n",
    "# Example from CLI\n",
    "# spotify_dl -l \"https://open.spotify.com/track/28Ct4qwkQXY2W5yyNCLuVI\" -o ."
   ]
  },
  {
   "cell_type": "code",
   "execution_count": 15,
   "id": "f8f0294c-94f3-44ad-a033-e52aa49cef14",
   "metadata": {},
   "outputs": [
    {
     "data": {
      "text/plain": [
       "28622"
      ]
     },
     "execution_count": 15,
     "metadata": {},
     "output_type": "execute_result"
    }
   ],
   "source": [
    "# Read in Kaggle Dataset\n",
    "kaggle_df = pd.read_csv(\"../data/SpotifyFeatures.csv\")\n",
    "track_ids = kaggle_df.sample(30000, random_state = 123).track_id.str.strip().unique().tolist()\n",
    "len(track_ids)"
   ]
  },
  {
   "cell_type": "code",
   "execution_count": 23,
   "id": "3be571b7",
   "metadata": {},
   "outputs": [
    {
     "name": "stdout",
     "output_type": "stream",
     "text": [
      "Starting spotify_dl v8.\u001b[1;36m8.2\u001b[0m                                     \u001b]8;id=847788;file:///home/kaulv/repos/brainstation_capstone/.venv/lib/python3.8/site-packages/spotify_dl/spotify_dl.py\u001b\\\u001b[2mspotify_dl.py\u001b[0m\u001b]8;;\u001b\\\u001b[2m:\u001b[0m\u001b]8;id=693045;file:///home/kaulv/repos/brainstation_capstone/.venv/lib/python3.8/site-packages/spotify_dl/spotify_dl.py#143\u001b\\\u001b[2m143\u001b[0m\u001b]8;;\u001b\\\n",
      "Sponsorblock enabled?: no                                      \u001b]8;id=51841;file:///home/kaulv/repos/brainstation_capstone/.venv/lib/python3.8/site-packages/spotify_dl/spotify_dl.py\u001b\\\u001b[2mspotify_dl.py\u001b[0m\u001b]8;;\u001b\\\u001b[2m:\u001b[0m\u001b]8;id=425313;file:///home/kaulv/repos/brainstation_capstone/.venv/lib/python3.8/site-packages/spotify_dl/spotify_dl.py#185\u001b\\\u001b[2m185\u001b[0m\u001b]8;;\u001b\\\n",
      "Saving songs to C'est beau de faire un Show directory          \u001b]8;id=633427;file:///home/kaulv/repos/brainstation_capstone/.venv/lib/python3.8/site-packages/spotify_dl/spotify_dl.py\u001b\\\u001b[2mspotify_dl.py\u001b[0m\u001b]8;;\u001b\\\u001b[2m:\u001b[0m\u001b]8;id=976724;file:///home/kaulv/repos/brainstation_capstone/.venv/lib/python3.8/site-packages/spotify_dl/spotify_dl.py#200\u001b\\\u001b[2m200\u001b[0m\u001b]8;;\u001b\\\n",
      "[generic] Extracting URL: Henri Salvador - C'est beau de faire un Show Lyrics\n",
      "Initiating download for Henri Salvador - C'est beau de faire un Show Lyrics.\n",
      "[youtube:search] Extracting URL: ytsearch:Henri Salvador - C'est beau de faire un Show Lyrics\n",
      "[download] Downloading playlist: Henri Salvador - C'est beau de faire un Show Lyrics\n",
      "[youtube:search] query \"Henri Salvador - C'est beau de faire un Show Lyrics\": Downloading web client config\n",
      "[youtube:search] query \"Henri Salvador - C'est beau de faire un Show Lyrics\" page 1: Downloading API JSON\n",
      "[youtube:search] Playlist Henri Salvador - C'est beau de faire un Show Lyrics: Downloading 1 items of 1\n",
      "[download] Downloading item 1 of 1\n",
      "[youtube] Extracting URL: https://www.youtube.com/watch?v=oM2345etj6c\n",
      "[youtube] oM2345etj6c: Downloading webpage\n",
      "[youtube] oM2345etj6c: Downloading ios player API JSON\n",
      "[youtube] oM2345etj6c: Downloading android player API JSON\n",
      "[youtube] oM2345etj6c: Downloading m3u8 information\n",
      "[info] oM2345etj6c: Downloading 1 format(s): 251\n",
      "[download] ../data/mp3s/0BRjO6ga9RKCKjfDqeFgWV/C'est beau de faire un Show/Henri Salvador - C'est beau de faire un Show.webm has already been downloaded\n",
      "[download] 100% of    1.39MiB\n",
      "Failed to download C'est beau de faire un Show, make sure yt_dlp is up to date\n",
      "Failed to download: ../data/mp3s/0BRjO6ga9RKCKjfDqeFgWV/C'est beau de faire un Show/Henri Salvador - C'est beau de faire un Show.mp3, please ensure YouTubeDL is up-to-date. \n",
      "Download completed in \u001b[1;36m3.22\u001b[0m seconds.                            \u001b]8;id=34026;file:///home/kaulv/repos/brainstation_capstone/.venv/lib/python3.8/site-packages/spotify_dl/spotify_dl.py\u001b\\\u001b[2mspotify_dl.py\u001b[0m\u001b]8;;\u001b\\\u001b[2m:\u001b[0m\u001b]8;id=71600;file:///home/kaulv/repos/brainstation_capstone/.venv/lib/python3.8/site-packages/spotify_dl/spotify_dl.py#223\u001b\\\u001b[2m223\u001b[0m\u001b]8;;\u001b\\\n"
     ]
    },
    {
     "name": "stderr",
     "output_type": "stream",
     "text": [
      "ERROR: Postprocessing: ffprobe and ffmpeg not found. Please install or provide the path using --ffmpeg-location\n"
     ]
    },
    {
     "data": {
      "text/plain": [
       "0"
      ]
     },
     "execution_count": 23,
     "metadata": {},
     "output_type": "execute_result"
    }
   ],
   "source": [
    "base_url = 'https://open.spotify.com/track/'\n",
    "track_id = '0BRjO6ga9RKCKjfDqeFgWV'\n",
    "url = base_url+track_id\n",
    "os.system(\"spotify_dl --url {} -o ../data/mp3s/{}\".format(url,track_id))"
   ]
  },
  {
   "cell_type": "code",
   "execution_count": 18,
   "id": "77b2face-8978-4627-b320-5a8056963fcb",
   "metadata": {
    "scrolled": true
   },
   "outputs": [
    {
     "name": "stdout",
     "output_type": "stream",
     "text": [
      "Starting spotify_dl v8.\u001b[1;36m8.2\u001b[0m                                     \u001b]8;id=376936;file:///home/kaulv/repos/brainstation_capstone/.venv/lib/python3.8/site-packages/spotify_dl/spotify_dl.py\u001b\\\u001b[2mspotify_dl.py\u001b[0m\u001b]8;;\u001b\\\u001b[2m:\u001b[0m\u001b]8;id=356059;file:///home/kaulv/repos/brainstation_capstone/.venv/lib/python3.8/site-packages/spotify_dl/spotify_dl.py#143\u001b\\\u001b[2m143\u001b[0m\u001b]8;;\u001b\\\n",
      "spotify_dl \u001b[1;32mv8.\u001b[0m\u001b[1;32m8.2\u001b[0m\n",
      "Starting spotify_dl v8.\u001b[1;36m8.2\u001b[0m                                     \u001b]8;id=944935;file:///home/kaulv/repos/brainstation_capstone/.venv/lib/python3.8/site-packages/spotify_dl/spotify_dl.py\u001b\\\u001b[2mspotify_dl.py\u001b[0m\u001b]8;;\u001b\\\u001b[2m:\u001b[0m\u001b]8;id=789062;file:///home/kaulv/repos/brainstation_capstone/.venv/lib/python3.8/site-packages/spotify_dl/spotify_dl.py#143\u001b\\\u001b[2m143\u001b[0m\u001b]8;;\u001b\\\n",
      "spotify_dl \u001b[1;32mv8.\u001b[0m\u001b[1;32m8.2\u001b[0m\n",
      "Starting spotify_dl v8.\u001b[1;36m8.2\u001b[0m                                     \u001b]8;id=661758;file:///home/kaulv/repos/brainstation_capstone/.venv/lib/python3.8/site-packages/spotify_dl/spotify_dl.py\u001b\\\u001b[2mspotify_dl.py\u001b[0m\u001b]8;;\u001b\\\u001b[2m:\u001b[0m\u001b]8;id=543880;file:///home/kaulv/repos/brainstation_capstone/.venv/lib/python3.8/site-packages/spotify_dl/spotify_dl.py#143\u001b\\\u001b[2m143\u001b[0m\u001b]8;;\u001b\\\n",
      "spotify_dl \u001b[1;32mv8.\u001b[0m\u001b[1;32m8.2\u001b[0m\n",
      "Starting spotify_dl v8.\u001b[1;36m8.2\u001b[0m                                     \u001b]8;id=456019;file:///home/kaulv/repos/brainstation_capstone/.venv/lib/python3.8/site-packages/spotify_dl/spotify_dl.py\u001b\\\u001b[2mspotify_dl.py\u001b[0m\u001b]8;;\u001b\\\u001b[2m:\u001b[0m\u001b]8;id=919080;file:///home/kaulv/repos/brainstation_capstone/.venv/lib/python3.8/site-packages/spotify_dl/spotify_dl.py#143\u001b\\\u001b[2m143\u001b[0m\u001b]8;;\u001b\\\n",
      "spotify_dl \u001b[1;32mv8.\u001b[0m\u001b[1;32m8.2\u001b[0m\n",
      "Starting spotify_dl v8.\u001b[1;36m8.2\u001b[0m                                     \u001b]8;id=458171;file:///home/kaulv/repos/brainstation_capstone/.venv/lib/python3.8/site-packages/spotify_dl/spotify_dl.py\u001b\\\u001b[2mspotify_dl.py\u001b[0m\u001b]8;;\u001b\\\u001b[2m:\u001b[0m\u001b]8;id=214912;file:///home/kaulv/repos/brainstation_capstone/.venv/lib/python3.8/site-packages/spotify_dl/spotify_dl.py#143\u001b\\\u001b[2m143\u001b[0m\u001b]8;;\u001b\\\n",
      "spotify_dl \u001b[1;32mv8.\u001b[0m\u001b[1;32m8.2\u001b[0m\n",
      "Starting spotify_dl v8.\u001b[1;36m8.2\u001b[0m                                     \u001b]8;id=706560;file:///home/kaulv/repos/brainstation_capstone/.venv/lib/python3.8/site-packages/spotify_dl/spotify_dl.py\u001b\\\u001b[2mspotify_dl.py\u001b[0m\u001b]8;;\u001b\\\u001b[2m:\u001b[0m\u001b]8;id=25582;file:///home/kaulv/repos/brainstation_capstone/.venv/lib/python3.8/site-packages/spotify_dl/spotify_dl.py#143\u001b\\\u001b[2m143\u001b[0m\u001b]8;;\u001b\\\n",
      "spotify_dl \u001b[1;32mv8.\u001b[0m\u001b[1;32m8.2\u001b[0m\n",
      "Starting spotify_dl v8.\u001b[1;36m8.2\u001b[0m                                     \u001b]8;id=782757;file:///home/kaulv/repos/brainstation_capstone/.venv/lib/python3.8/site-packages/spotify_dl/spotify_dl.py\u001b\\\u001b[2mspotify_dl.py\u001b[0m\u001b]8;;\u001b\\\u001b[2m:\u001b[0m\u001b]8;id=532855;file:///home/kaulv/repos/brainstation_capstone/.venv/lib/python3.8/site-packages/spotify_dl/spotify_dl.py#143\u001b\\\u001b[2m143\u001b[0m\u001b]8;;\u001b\\\n",
      "spotify_dl \u001b[1;32mv8.\u001b[0m\u001b[1;32m8.2\u001b[0m\n",
      "Starting spotify_dl v8.\u001b[1;36m8.2\u001b[0m                                     \u001b]8;id=747851;file:///home/kaulv/repos/brainstation_capstone/.venv/lib/python3.8/site-packages/spotify_dl/spotify_dl.py\u001b\\\u001b[2mspotify_dl.py\u001b[0m\u001b]8;;\u001b\\\u001b[2m:\u001b[0m\u001b]8;id=142934;file:///home/kaulv/repos/brainstation_capstone/.venv/lib/python3.8/site-packages/spotify_dl/spotify_dl.py#143\u001b\\\u001b[2m143\u001b[0m\u001b]8;;\u001b\\\n",
      "spotify_dl \u001b[1;32mv8.\u001b[0m\u001b[1;32m8.2\u001b[0m\n",
      "Starting spotify_dl v8.\u001b[1;36m8.2\u001b[0m                                     \u001b]8;id=298063;file:///home/kaulv/repos/brainstation_capstone/.venv/lib/python3.8/site-packages/spotify_dl/spotify_dl.py\u001b\\\u001b[2mspotify_dl.py\u001b[0m\u001b]8;;\u001b\\\u001b[2m:\u001b[0m\u001b]8;id=676577;file:///home/kaulv/repos/brainstation_capstone/.venv/lib/python3.8/site-packages/spotify_dl/spotify_dl.py#143\u001b\\\u001b[2m143\u001b[0m\u001b]8;;\u001b\\\n",
      "spotify_dl \u001b[1;32mv8.\u001b[0m\u001b[1;32m8.2\u001b[0m\n",
      "Starting spotify_dl v8.\u001b[1;36m8.2\u001b[0m                                     \u001b]8;id=720484;file:///home/kaulv/repos/brainstation_capstone/.venv/lib/python3.8/site-packages/spotify_dl/spotify_dl.py\u001b\\\u001b[2mspotify_dl.py\u001b[0m\u001b]8;;\u001b\\\u001b[2m:\u001b[0m\u001b]8;id=586927;file:///home/kaulv/repos/brainstation_capstone/.venv/lib/python3.8/site-packages/spotify_dl/spotify_dl.py#143\u001b\\\u001b[2m143\u001b[0m\u001b]8;;\u001b\\\n",
      "spotify_dl \u001b[1;32mv8.\u001b[0m\u001b[1;32m8.2\u001b[0m\n",
      "Starting spotify_dl v8.\u001b[1;36m8.2\u001b[0m                                     \u001b]8;id=613116;file:///home/kaulv/repos/brainstation_capstone/.venv/lib/python3.8/site-packages/spotify_dl/spotify_dl.py\u001b\\\u001b[2mspotify_dl.py\u001b[0m\u001b]8;;\u001b\\\u001b[2m:\u001b[0m\u001b]8;id=927667;file:///home/kaulv/repos/brainstation_capstone/.venv/lib/python3.8/site-packages/spotify_dl/spotify_dl.py#143\u001b\\\u001b[2m143\u001b[0m\u001b]8;;\u001b\\\n",
      "spotify_dl \u001b[1;32mv8.\u001b[0m\u001b[1;32m8.2\u001b[0m\n",
      "Starting spotify_dl v8.\u001b[1;36m8.2\u001b[0m                                     \u001b]8;id=15793;file:///home/kaulv/repos/brainstation_capstone/.venv/lib/python3.8/site-packages/spotify_dl/spotify_dl.py\u001b\\\u001b[2mspotify_dl.py\u001b[0m\u001b]8;;\u001b\\\u001b[2m:\u001b[0m\u001b]8;id=879642;file:///home/kaulv/repos/brainstation_capstone/.venv/lib/python3.8/site-packages/spotify_dl/spotify_dl.py#143\u001b\\\u001b[2m143\u001b[0m\u001b]8;;\u001b\\\n",
      "spotify_dl \u001b[1;32mv8.\u001b[0m\u001b[1;32m8.2\u001b[0m\n",
      "Starting spotify_dl v8.\u001b[1;36m8.2\u001b[0m                                     \u001b]8;id=15063;file:///home/kaulv/repos/brainstation_capstone/.venv/lib/python3.8/site-packages/spotify_dl/spotify_dl.py\u001b\\\u001b[2mspotify_dl.py\u001b[0m\u001b]8;;\u001b\\\u001b[2m:\u001b[0m\u001b]8;id=349371;file:///home/kaulv/repos/brainstation_capstone/.venv/lib/python3.8/site-packages/spotify_dl/spotify_dl.py#143\u001b\\\u001b[2m143\u001b[0m\u001b]8;;\u001b\\\n",
      "spotify_dl \u001b[1;32mv8.\u001b[0m\u001b[1;32m8.2\u001b[0m\n",
      "Starting spotify_dl v8.\u001b[1;36m8.2\u001b[0m                                     \u001b]8;id=927512;file:///home/kaulv/repos/brainstation_capstone/.venv/lib/python3.8/site-packages/spotify_dl/spotify_dl.py\u001b\\\u001b[2mspotify_dl.py\u001b[0m\u001b]8;;\u001b\\\u001b[2m:\u001b[0m\u001b]8;id=783186;file:///home/kaulv/repos/brainstation_capstone/.venv/lib/python3.8/site-packages/spotify_dl/spotify_dl.py#143\u001b\\\u001b[2m143\u001b[0m\u001b]8;;\u001b\\\n",
      "spotify_dl \u001b[1;32mv8.\u001b[0m\u001b[1;32m8.2\u001b[0m\n",
      "Starting spotify_dl v8.\u001b[1;36m8.2\u001b[0m                                     \u001b]8;id=343955;file:///home/kaulv/repos/brainstation_capstone/.venv/lib/python3.8/site-packages/spotify_dl/spotify_dl.py\u001b\\\u001b[2mspotify_dl.py\u001b[0m\u001b]8;;\u001b\\\u001b[2m:\u001b[0m\u001b]8;id=412953;file:///home/kaulv/repos/brainstation_capstone/.venv/lib/python3.8/site-packages/spotify_dl/spotify_dl.py#143\u001b\\\u001b[2m143\u001b[0m\u001b]8;;\u001b\\\n",
      "spotify_dl \u001b[1;32mv8.\u001b[0m\u001b[1;32m8.2\u001b[0m\n"
     ]
    },
    {
     "ename": "KeyboardInterrupt",
     "evalue": "",
     "output_type": "error",
     "traceback": [
      "\u001b[0;31m---------------------------------------------------------------------------\u001b[0m",
      "\u001b[0;31mKeyboardInterrupt\u001b[0m                         Traceback (most recent call last)",
      "Cell \u001b[0;32mIn[18], line 23\u001b[0m\n\u001b[1;32m     20\u001b[0m \u001b[38;5;66;03m# print(url)\u001b[39;00m\n\u001b[1;32m     22\u001b[0m os\u001b[38;5;241m.\u001b[39msystem(\u001b[38;5;124m\"\u001b[39m\u001b[38;5;124mspotify_dl -l \u001b[39m\u001b[38;5;132;01m{}\u001b[39;00m\u001b[38;5;124m -v -o ../data/mp3s/\u001b[39m\u001b[38;5;132;01m{}\u001b[39;00m\u001b[38;5;124m\"\u001b[39m\u001b[38;5;241m.\u001b[39mformat(exec_path, url,track_id))\n\u001b[0;32m---> 23\u001b[0m \u001b[43mtime\u001b[49m\u001b[38;5;241;43m.\u001b[39;49m\u001b[43msleep\u001b[49m\u001b[43m(\u001b[49m\u001b[38;5;241;43m5\u001b[39;49m\u001b[43m)\u001b[49m \u001b[38;5;66;03m# 10 second delay between requests\u001b[39;00m\n\u001b[1;32m     24\u001b[0m \u001b[38;5;66;03m# for root, dirs, files in os.walk(directory):\u001b[39;00m\n\u001b[1;32m     25\u001b[0m \u001b[38;5;66;03m#     for file in files:\u001b[39;00m\n\u001b[1;32m     26\u001b[0m \u001b[38;5;66;03m#         if file.endswith('.mp3'):\u001b[39;00m\n\u001b[0;32m   (...)\u001b[0m\n\u001b[1;32m     31\u001b[0m \u001b[38;5;66;03m#             os.system('mv \"{}/{}.mp3\" ../data/mp3s/'.format(root, track_id))\u001b[39;00m\n\u001b[1;32m     32\u001b[0m \u001b[38;5;66;03m#             # os.system('find ../data/mp3s/ -empty -type d -delete')\u001b[39;00m\n",
      "\u001b[0;31mKeyboardInterrupt\u001b[0m: "
     ]
    }
   ],
   "source": [
    "# exec_path = '/Users/vii/anaconda3/envs/brainstation_capstone/bin/spotify_dl'\n",
    "base_url = 'https://open.spotify.com/track/'\n",
    "# exec_path = '/home/kaulv/repos/brainstation_capstone/.venv/bin/spotify_dl' # this is path for desktop\n",
    "file_path = '/Users/vii/repos/brainstation_capstone/data/mp3s/'\n",
    "# /Users/vii/anaconda3/envs/brainstation_capstone/bin/spotify_dl -l /Users/vii/repos/brainstation_capstone/data/mp3s/ -v -s y -o ../data/mp3s/{}\n",
    "# dirs = []\n",
    "# for root, dir, files in os.walk(file_path):\n",
    "#     dirs.append(dir)\n",
    "# count = 0\n",
    "os.system(\"export SPOTIPY_CLIENT_ID={}\".format(CLIENT_ID))\n",
    "os.system('export SPOTIPY_CLIENT_SECRET={}'.format(CLIENT_SECRET))\n",
    "for track_id in track_ids:\n",
    "    # if (len(dirs)>0):\n",
    "    #     if (track_id in dirs[0]):\n",
    "    #         count +=1\n",
    "    #         pass\n",
    "    # else:\n",
    "        # count+=1\n",
    "    url = base_url+track_id\n",
    "    # print(url)\n",
    "\n",
    "    os.system(\"spotify_dl -l {} -v -o ../data/mp3s/{}\".format(exec_path, url,track_id))\n",
    "    time.sleep(5) # 10 second delay between requests\n",
    "    # for root, dirs, files in os.walk(directory):\n",
    "    #     for file in files:\n",
    "    #         if file.endswith('.mp3'):\n",
    "    #             # print(root,dirs,files)\n",
    "    #             # print(f\"mv '{root}/{file}' '{root}/{track_id}'\")\n",
    "    #             path = root+file\n",
    "    #             os.system('mv \"{}\" \"{}/{}.mp3\"'.format(path, root,track_id))\n",
    "    #             os.system('mv \"{}/{}.mp3\" ../data/mp3s/'.format(root, track_id))\n",
    "    #             # os.system('find ../data/mp3s/ -empty -type d -delete')"
   ]
  },
  {
   "cell_type": "code",
   "execution_count": 16,
   "id": "cdcbc458-8f9a-4edd-9ea7-5339d5a96913",
   "metadata": {},
   "outputs": [
    {
     "data": {
      "text/plain": [
       "2479"
      ]
     },
     "execution_count": 16,
     "metadata": {},
     "output_type": "execute_result"
    }
   ],
   "source": [
    "count"
   ]
  },
  {
   "cell_type": "code",
   "execution_count": null,
   "id": "d23caf26-738b-461b-b306-29cc7fd2ad40",
   "metadata": {},
   "outputs": [],
   "source": []
  },
  {
   "cell_type": "code",
   "execution_count": null,
   "id": "f1b66fc3-e6e0-4f21-ad65-4dc02a3fe04a",
   "metadata": {},
   "outputs": [],
   "source": []
  },
  {
   "cell_type": "code",
   "execution_count": null,
   "id": "2e9f8dc9-768a-4845-b2d7-ef5573cab1c7",
   "metadata": {},
   "outputs": [],
   "source": []
  },
  {
   "cell_type": "code",
   "execution_count": null,
   "id": "1306464d-ea4a-4d9d-8661-51b3d9c7b650",
   "metadata": {},
   "outputs": [],
   "source": []
  },
  {
   "cell_type": "code",
   "execution_count": null,
   "id": "77110046-0d0c-43f1-ab3e-fd1fd535d201",
   "metadata": {},
   "outputs": [],
   "source": []
  },
  {
   "cell_type": "code",
   "execution_count": null,
   "id": "50b2ab89-e980-43ec-80b4-4d9f7c1618c8",
   "metadata": {},
   "outputs": [],
   "source": []
  },
  {
   "cell_type": "code",
   "execution_count": null,
   "id": "b761ef6e-dbc1-45cd-9998-154be8fd7563",
   "metadata": {},
   "outputs": [],
   "source": []
  },
  {
   "cell_type": "code",
   "execution_count": null,
   "id": "1386a75c-f536-4ee6-9e9b-be15c1262f35",
   "metadata": {},
   "outputs": [],
   "source": []
  }
 ],
 "metadata": {
  "kernelspec": {
   "display_name": "Python 3 (ipykernel)",
   "language": "python",
   "name": "python3"
  },
  "language_info": {
   "codemirror_mode": {
    "name": "ipython",
    "version": 3
   },
   "file_extension": ".py",
   "mimetype": "text/x-python",
   "name": "python",
   "nbconvert_exporter": "python",
   "pygments_lexer": "ipython3",
   "version": "3.8.10"
  }
 },
 "nbformat": 4,
 "nbformat_minor": 5
}
